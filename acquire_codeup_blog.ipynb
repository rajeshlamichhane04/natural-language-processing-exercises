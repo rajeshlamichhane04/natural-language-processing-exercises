{
 "cells": [
  {
   "cell_type": "code",
   "execution_count": 48,
   "id": "d62a3764",
   "metadata": {},
   "outputs": [],
   "source": [
    "import pandas as pd\n",
    "import numpy as np\n",
    "import re\n",
    "from requests import get\n",
    "from bs4 import BeautifulSoup as bs"
   ]
  },
  {
   "cell_type": "markdown",
   "id": "5ad13b1d",
   "metadata": {},
   "source": [
    "### 1. Codeup Blog Articles\n",
    "\n",
    "Visit Codeup's Blog and record the urls for at least 5 distinct blog posts. For each post, you should scrape at least the post's title and content.\n",
    "\n",
    "Encapsulate your work in a function named get_blog_articles that will return a list of dictionaries, with each dictionary representing one article. The shape of each dictionary should look like this:"
   ]
  },
  {
   "cell_type": "markdown",
   "id": "ce6ba7cc",
   "metadata": {},
   "source": [
    "    {\n",
    "        'title': 'the title of the article',\n",
    "        'content': 'the full text content of the article'\n",
    "    }\n"
   ]
  },
  {
   "cell_type": "markdown",
   "id": "93fb80c5",
   "metadata": {},
   "source": [
    "#### From class review"
   ]
  },
  {
   "cell_type": "code",
   "execution_count": 2,
   "id": "8f59a17f",
   "metadata": {},
   "outputs": [],
   "source": [
    "# establish a base url for our requests:\n",
    "url = 'https://codeup.com/blog/'"
   ]
  },
  {
   "cell_type": "code",
   "execution_count": 3,
   "id": "400113c6",
   "metadata": {},
   "outputs": [],
   "source": [
    "# we need to specify some user agent for the codeup site\n",
    "# non-specified user agents are rejected\n",
    "header = {'User-Agent': 'hamsandwich'}"
   ]
  },
  {
   "cell_type": "code",
   "execution_count": 6,
   "id": "d5eb943f",
   "metadata": {},
   "outputs": [],
   "source": [
    "# establish our basic soup with the base url\n",
    "soup = bs(get(url, headers=header).content)"
   ]
  },
  {
   "cell_type": "code",
   "execution_count": 16,
   "id": "aecf4371",
   "metadata": {},
   "outputs": [],
   "source": [
    "#soup.prettify"
   ]
  },
  {
   "cell_type": "code",
   "execution_count": 18,
   "id": "0bb7c4c4",
   "metadata": {},
   "outputs": [
    {
     "data": {
      "text/plain": [
       "[<a class=\"more-link\" href=\"https://codeup.com/codeup-news/dei-report/\">read more</a>,\n",
       " <a class=\"more-link\" href=\"https://codeup.com/codeup-news/diversity-and-inclusion-award/\">read more</a>,\n",
       " <a class=\"more-link\" href=\"https://codeup.com/featured/financing-career-transition/\">read more</a>,\n",
       " <a class=\"more-link\" href=\"https://codeup.com/tips-for-prospective-students/tips-for-women/\">read more</a>,\n",
       " <a class=\"more-link\" href=\"https://codeup.com/cloud-administration/cloud-computing-and-aws/\">read more</a>,\n",
       " <a class=\"more-link\" href=\"https://codeup.com/codeup-news/c-suite-award-stephen-noteboom/\">read more</a>]"
      ]
     },
     "execution_count": 18,
     "metadata": {},
     "output_type": "execute_result"
    }
   ],
   "source": [
    "soup.select(\"a.more-link\")"
   ]
  },
  {
   "cell_type": "code",
   "execution_count": 23,
   "id": "36724222",
   "metadata": {},
   "outputs": [
    {
     "data": {
      "text/plain": [
       "'https://codeup.com/codeup-news/dei-report/'"
      ]
     },
     "execution_count": 23,
     "metadata": {},
     "output_type": "execute_result"
    }
   ],
   "source": [
    "soup.select(\"a.more-link\")[0]['href']"
   ]
  },
  {
   "cell_type": "code",
   "execution_count": 25,
   "id": "1013439a",
   "metadata": {},
   "outputs": [],
   "source": [
    "blog_posts = [link[\"href\"] for link in soup.select(\"a.more-link\")]"
   ]
  },
  {
   "cell_type": "code",
   "execution_count": 26,
   "id": "548d1788",
   "metadata": {},
   "outputs": [
    {
     "data": {
      "text/plain": [
       "['https://codeup.com/codeup-news/dei-report/',\n",
       " 'https://codeup.com/codeup-news/diversity-and-inclusion-award/',\n",
       " 'https://codeup.com/featured/financing-career-transition/',\n",
       " 'https://codeup.com/tips-for-prospective-students/tips-for-women/',\n",
       " 'https://codeup.com/cloud-administration/cloud-computing-and-aws/',\n",
       " 'https://codeup.com/codeup-news/c-suite-award-stephen-noteboom/']"
      ]
     },
     "execution_count": 26,
     "metadata": {},
     "output_type": "execute_result"
    }
   ],
   "source": [
    "blog_posts"
   ]
  },
  {
   "cell_type": "code",
   "execution_count": 30,
   "id": "389ad7ea",
   "metadata": {},
   "outputs": [],
   "source": [
    "#make function\n",
    "def get_blog_urls(base_url, header = {'User-Agent': 'hamsandwich'}):\n",
    "    soup = bs(get(url, headers = header).content)\n",
    "    return [link[\"href\"] for link in soup.select(\"a.more-link\")]"
   ]
  },
  {
   "cell_type": "code",
   "execution_count": 31,
   "id": "f7b3f558",
   "metadata": {},
   "outputs": [
    {
     "data": {
      "text/plain": [
       "['https://codeup.com/codeup-news/dei-report/',\n",
       " 'https://codeup.com/codeup-news/diversity-and-inclusion-award/',\n",
       " 'https://codeup.com/featured/financing-career-transition/',\n",
       " 'https://codeup.com/tips-for-prospective-students/tips-for-women/',\n",
       " 'https://codeup.com/cloud-administration/cloud-computing-and-aws/',\n",
       " 'https://codeup.com/codeup-news/c-suite-award-stephen-noteboom/']"
      ]
     },
     "execution_count": 31,
     "metadata": {},
     "output_type": "execute_result"
    }
   ],
   "source": [
    "get_blog_urls(url)"
   ]
  },
  {
   "cell_type": "code",
   "execution_count": 33,
   "id": "89e430e8",
   "metadata": {},
   "outputs": [],
   "source": [
    "#inside the article\n",
    "article_soup = bs(get(\n",
    "    'https://codeup.com/codeup-news/dei-report/',\n",
    "    headers=header\n",
    ").content)"
   ]
  },
  {
   "cell_type": "code",
   "execution_count": 41,
   "id": "9ab56582",
   "metadata": {},
   "outputs": [
    {
     "data": {
      "text/plain": [
       "'Diversity Equity and Inclusion Report'"
      ]
     },
     "execution_count": 41,
     "metadata": {},
     "output_type": "execute_result"
    }
   ],
   "source": [
    "# if I only have one thing, use select_one\n",
    "article_soup.select_one('h1.entry-title').text"
   ]
  },
  {
   "cell_type": "code",
   "execution_count": 38,
   "id": "8e0a3054",
   "metadata": {},
   "outputs": [
    {
     "data": {
      "text/plain": [
       "'Codeup is excited to launch our first Diversity Equity, and Inclusion (DEI) report! In over eight years as an organization, we’ve implemented policies and grown our DEI efforts. We are extremely proud of the progress we’ve made as a staff and Codeup community, and we recognize there is more to learn. This report captures some of the ways that we’ve lived our value of Cultivating Inclusive Growth, and how we will continue doing so as we look to the future.\\nWe wanted to shine a light on the demographics of our students and staff, and in particular how that compares to the tech industry as a whole. How we collect, organize, and share employee demographic data is informed by standards set by the Equal Employment Opportunity Commission (EEOC).\\nWe are proud to celebrate how we’ve grown and are motivated and committed to do more and be better. To view the report visit the link here, or download it below.'"
      ]
     },
     "execution_count": 38,
     "metadata": {},
     "output_type": "execute_result"
    }
   ],
   "source": [
    "# let's get the article content now:\n",
    "article_soup.select_one('div.entry-content').text.strip()"
   ]
  },
  {
   "cell_type": "code",
   "execution_count": 44,
   "id": "f7ecc2cd",
   "metadata": {},
   "outputs": [],
   "source": [
    "def get_blog_content(base_url):\n",
    "    blog_links = get_blog_urls(base_url)\n",
    "    all_blogs = []\n",
    "    for blog in blog_links:\n",
    "        blog_soup = bs(\n",
    "            get(blog,\n",
    "                headers=header).content)\n",
    "        blog_content = {'title': blog_soup.select_one(\n",
    "            'h1.entry-title').text,\n",
    "        'content': blog_soup.select_one(\n",
    "            'div.entry-content').text.strip()}\n",
    "        all_blogs.append(blog_content)\n",
    "    return all_blogs"
   ]
  },
  {
   "cell_type": "code",
   "execution_count": 45,
   "id": "f5225b67",
   "metadata": {},
   "outputs": [
    {
     "data": {
      "text/plain": [
       "[{'title': 'Diversity Equity and Inclusion Report',\n",
       "  'content': 'Codeup is excited to launch our first Diversity Equity, and Inclusion (DEI) report! In over eight years as an organization, we’ve implemented policies and grown our DEI efforts. We are extremely proud of the progress we’ve made as a staff and Codeup community, and we recognize there is more to learn. This report captures some of the ways that we’ve lived our value of Cultivating Inclusive Growth, and how we will continue doing so as we look to the future.\\nWe wanted to shine a light on the demographics of our students and staff, and in particular how that compares to the tech industry as a whole. How we collect, organize, and share employee demographic data is informed by standards set by the Equal Employment Opportunity Commission (EEOC).\\nWe are proud to celebrate how we’ve grown and are motivated and committed to do more and be better. To view the report visit the link here, or download it below.'},\n",
       " {'title': 'Codeup Honored as SABJ Diversity and Inclusion Award Winner',\n",
       "  'content': 'Codeup has been named the 2022 Diversity and Inclusion award winner from the San Antonio Business Journal!\\nWe are thrilled to be among those that take pride in ensuring that diversity, equity, and inclusion (DEI) are priorities in our work environments.\\nTo learn more about our efforts, please check out our DEI Report for 2022!'},\n",
       " {'title': 'How Can I Finance My Career Transition?',\n",
       "  'content': 'Deciding to transition into a tech career is a big step and a more significant commitment. Often after deciding to commit to a journey of this nature, the main obstacle is finding a way to finance your training.\\nAt Codeup, we recognize that many of our students are career transitioners, and attending one of our programs can sometimes require sacrifice. Luckily, we have several ways to help you finance your career transition, ultimately leading to that new career you’ve decided to pursue.\\nPrograms\\nWe offer three different accelerated coding bootcamps at Codeup including Full-Stack Web Development, Cloud Administration, and Data Science. These are all instructor-led and designed to quickly equip you with the skills and knowledge to secure an entry-level position in-field.\\nGetting Started\\nFor all of our programs, a $1,000 deposit one week before a student’s first day of class is all we require in order to solidify a seat in the starting cohort.\\nPayment Options\\nFinding a payment option that suits your needs is feasible with our different financing options.\\n\\nSelf-Pay: If you opt to pay out of pocket, 50% of the balance will be due on the first day of class, and the remaining 50% will be due 30 days after the first day of class\\nLoans: We have three loan partners that offer flexible repayment, including no payments until 6 months after graduating from our program!\\nGrants: With multiple options available, our grant partners will work to help you find aid to offset the cost of attendance\\nScholarships: We offer seven different internal scholarships, including Women in Tech, Annie Easley, Minorities in Tech, Pride, Veterans, First-Responders and Covid-19 Relief.\\nVA Benefits: We proudly accept VA benefits as a form of payment for veterans looking to transition to a career in tech. Our Dallas campus specifically accepts VET TEC, and our San Antonio campus accepts VET TEC, GI Bill®/Chapter 33, VRRAP, and Vocational Rehabilitation.\\n\\nFind a complete breakdown by campus of all of our financial aid options here.\\nIf you’re interested in jumpstarting your career in tech with Codeup, apply today and chat with someone from our admissions or financial aid team to get you setup in an upcoming cohort! If you aren’t quite ready to apply, click here to request more information on our programs, and we’ll help you decide which direction is best for you.'},\n",
       " {'title': 'Tips for Women Beginning a Career in Tech',\n",
       "  'content': 'Codeup strongly values diversity, and inclusion. In honor of American Business Women’s Day, we’d like to share eight tips and pieces of advice from Codeup’s women in tech for women looking to begin their careers in tech!\\n\\n“Be confident in what you’re saying. If you’re speaking it’s because you have something to say.”\\n“Don’t over apologize (I do this way too often).”\\n“Be open and willing to speak up to your colleagues on how they can be supportive to everyone in the environment.”\\n“Band with other women to support each other on y’alls journey.”\\n“Find a mentor (and don’t limit yourself to just women mentors, as there aren’t many out there). A mentor can help you establish your career goals, navigate your journey, provide emotional support or motivation, and ultimately help you succeed.”\\n“Do not dismiss or shrug off “humor.” Call out racist, sexist, ableist, etc., comments. Stop letting work colleagues get away with bad behavior. Do this quickly, so it isn’t something that continues to happen.”\\n“Don’t be afraid to ask questions. The other three guys that were hired at the same time as I was NEVER asked any questions, but it turns out they were just as lost as I was. Once I started asking questions in our training meetings, they all started asking away as well! I thought they all understood what was going on, and being the only female in the group, I didn’t want to stick out. This had been holding me back. Instead of being afraid that you will come off as “not getting it”, you will instead hear “That’s a really good question!” or “I’m glad you asked that!”.”\\n“We belong here. Remind yourself of that when you doubt yourself. Because you will. I did. But I belong. And you do, too. So say it like a mantra – I belong here. And believe it.”\\n\\nCodeup works hard to close the gender inequality gap, and to diversify the tech world by producing a unique blend of tech talent. We also offer a Women in Tech scholarship open to anyone who identifies as a woman. Our goal is to make a career in tech accessible to all.\\nJoin us on our journey of empowering women in tech today! Apply or request more information on our programs to jumpstart your career in tech.'},\n",
       " {'title': 'What is Cloud Computing and AWS?',\n",
       "  'content': 'With many companies switching to cloud services and implementing cloud infrastructure in their practices, many of us may be wondering…what is cloud computing, and what is AWS?\\nHopefully, this beginner-friendly guide will answer these questions and give you a foundational understanding of AWS and how cloud infrastructure differs from traditional IT.\\nWhat is cloud computing?\\nCloud computing is data hosted via the internet by an independent party. This independent party extends its infrastructure to customers with a pay-as-you-go pricing model.\\nCloud Service Providers\\nRecently, more organizations have given up physical data centers and are transitioning to the Cloud for their needs. The following are the top Cloud Infrastructure Services providers in 2022:\\n\\nAmazon Web Services (AWS)\\nMicrosoft Azure\\nGoogle Cloud Platform (GCP)\\n\\nAWS| Amazon Web Services\\nAt Codeup, our Cloud Administration program curriculum focuses on AWS. We prepare students to attempt two certification exams:\\n\\nAWS Cloud Practitioner Exam\\nAWS Solutions Architect Associate Exam\\n\\nAWS is the most mature of the cloud service providers, and the lead market provider of cloud services. AWS offers over 200 services, operating globally at a low cost.\\nCloud-Based Infrastructure vs. Traditional IT\\nCloud-Based Infrastructure\\n\\nSelect the right resource for your organization based on needs such as power, storage, speed, and network, and easily make adjustments as needed\\nYou only pay for what you use\\nDeploying infrastructure globally is easy and achievable in minutes\\nThere are no customer costs associated with maintenance, updates, or licensing\\nSecurity and fault tolerance mechanisms are taken care of by the cloud service provider\\nUser data is saved at all times and protected in multiple data centers within a region so in the case of an emergency or disaster, service remains uninterrupted\\nOperating in the cloud is all automated\\n24/7 trained IT staff is available for customer support\\n\\nTraditional IT\\n\\nOrganizations will need to acquire and setup servers independently and manually\\nThe organization is responsible for maintenance and hardware checkups\\nThe organization is responsible for backing up data and setting up a disaster recovery plan\\nAn IT staff will need to be hired by the organization\\nWhen scaling up, it is necessary to acquire more hardware to meet the needs of the organization\\nScaling up or down is manual and time-consuming\\nRequires a lot of up front capital to purchase the necessary hardware\\n\\nIf you’re interested in jumpstarting your career in tech, and you’re looking into cloud computing our Cloud Administration program may be right for you! Request more information to learn more, and check out some of our 100% free workshops to see if it’s a good fit. When you’re ready, apply to get started on your Codeup journey! We hope to hear from you soon.'},\n",
       " {'title': '2022 SABJ C-Suite Award Winner: Stephen Noteboom',\n",
       "  'content': 'Codeup’s Chief Operating Officer, Stephen Noteboom has won the 2022 San Antonio Business Journal’s C-Suite Award!\\nThis award recognizes Stephen as a top C-Suite leader in San Antonio, TX, and we couldn’t be more proud. Stephen has been with Codeup for a year and a half, and has been nothing short of a great COO.\\nWe are so excited to share in such a fantastic accomplishment, and we will continue to strive for excellence going forward.\\nCongratulations Stephen!'}]"
      ]
     },
     "execution_count": 45,
     "metadata": {},
     "output_type": "execute_result"
    }
   ],
   "source": [
    "get_blog_content(url)"
   ]
  },
  {
   "cell_type": "code",
   "execution_count": 47,
   "id": "fc256384",
   "metadata": {},
   "outputs": [
    {
     "data": {
      "text/html": [
       "<div>\n",
       "<style scoped>\n",
       "    .dataframe tbody tr th:only-of-type {\n",
       "        vertical-align: middle;\n",
       "    }\n",
       "\n",
       "    .dataframe tbody tr th {\n",
       "        vertical-align: top;\n",
       "    }\n",
       "\n",
       "    .dataframe thead th {\n",
       "        text-align: right;\n",
       "    }\n",
       "</style>\n",
       "<table border=\"1\" class=\"dataframe\">\n",
       "  <thead>\n",
       "    <tr style=\"text-align: right;\">\n",
       "      <th></th>\n",
       "      <th>title</th>\n",
       "      <th>content</th>\n",
       "    </tr>\n",
       "  </thead>\n",
       "  <tbody>\n",
       "    <tr>\n",
       "      <th>0</th>\n",
       "      <td>Diversity Equity and Inclusion Report</td>\n",
       "      <td>Codeup is excited to launch our first Diversit...</td>\n",
       "    </tr>\n",
       "    <tr>\n",
       "      <th>1</th>\n",
       "      <td>Codeup Honored as SABJ Diversity and Inclusion...</td>\n",
       "      <td>Codeup has been named the 2022 Diversity and I...</td>\n",
       "    </tr>\n",
       "    <tr>\n",
       "      <th>2</th>\n",
       "      <td>How Can I Finance My Career Transition?</td>\n",
       "      <td>Deciding to transition into a tech career is a...</td>\n",
       "    </tr>\n",
       "    <tr>\n",
       "      <th>3</th>\n",
       "      <td>Tips for Women Beginning a Career in Tech</td>\n",
       "      <td>Codeup strongly values diversity, and inclusio...</td>\n",
       "    </tr>\n",
       "    <tr>\n",
       "      <th>4</th>\n",
       "      <td>What is Cloud Computing and AWS?</td>\n",
       "      <td>With many companies switching to cloud service...</td>\n",
       "    </tr>\n",
       "    <tr>\n",
       "      <th>5</th>\n",
       "      <td>2022 SABJ C-Suite Award Winner: Stephen Noteboom</td>\n",
       "      <td>Codeup’s Chief Operating Officer, Stephen Note...</td>\n",
       "    </tr>\n",
       "  </tbody>\n",
       "</table>\n",
       "</div>"
      ],
      "text/plain": [
       "                                               title  \\\n",
       "0              Diversity Equity and Inclusion Report   \n",
       "1  Codeup Honored as SABJ Diversity and Inclusion...   \n",
       "2            How Can I Finance My Career Transition?   \n",
       "3          Tips for Women Beginning a Career in Tech   \n",
       "4                   What is Cloud Computing and AWS?   \n",
       "5   2022 SABJ C-Suite Award Winner: Stephen Noteboom   \n",
       "\n",
       "                                             content  \n",
       "0  Codeup is excited to launch our first Diversit...  \n",
       "1  Codeup has been named the 2022 Diversity and I...  \n",
       "2  Deciding to transition into a tech career is a...  \n",
       "3  Codeup strongly values diversity, and inclusio...  \n",
       "4  With many companies switching to cloud service...  \n",
       "5  Codeup’s Chief Operating Officer, Stephen Note...  "
      ]
     },
     "execution_count": 47,
     "metadata": {},
     "output_type": "execute_result"
    }
   ],
   "source": [
    "my_blogs = pd.DataFrame(get_blog_content(url))\n",
    "my_blogs"
   ]
  },
  {
   "cell_type": "code",
   "execution_count": null,
   "id": "c1efd94f",
   "metadata": {},
   "outputs": [],
   "source": []
  }
 ],
 "metadata": {
  "kernelspec": {
   "display_name": "Python 3 (ipykernel)",
   "language": "python",
   "name": "python3"
  },
  "language_info": {
   "codemirror_mode": {
    "name": "ipython",
    "version": 3
   },
   "file_extension": ".py",
   "mimetype": "text/x-python",
   "name": "python",
   "nbconvert_exporter": "python",
   "pygments_lexer": "ipython3",
   "version": "3.9.12"
  }
 },
 "nbformat": 4,
 "nbformat_minor": 5
}
