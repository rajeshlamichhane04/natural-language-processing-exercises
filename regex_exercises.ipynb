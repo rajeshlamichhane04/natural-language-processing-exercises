{
 "cells": [
  {
   "cell_type": "code",
   "execution_count": 1,
   "id": "38b08719",
   "metadata": {},
   "outputs": [],
   "source": [
    "import pandas as pd\n",
    "import numpy as np\n",
    "import re"
   ]
  },
  {
   "cell_type": "markdown",
   "id": "68681d3d",
   "metadata": {},
   "source": [
    "### 1. Write a function named is_vowel. It should accept a string as input and use a regular expression to determine if the passed string is a vowel. While not explicity mentioned in the lesson, you can treat the result of re.search as a boolean value that indicates whether or not the regular expression matches the given string"
   ]
  },
  {
   "cell_type": "code",
   "execution_count": 42,
   "id": "47790317",
   "metadata": {},
   "outputs": [],
   "source": [
    "def is_vowel(string):\n",
    "    return bool(re.search(r'[aeiou]', string, re.IGNORECASE))"
   ]
  },
  {
   "cell_type": "code",
   "execution_count": 43,
   "id": "99b5b93c",
   "metadata": {},
   "outputs": [
    {
     "data": {
      "text/plain": [
       "False"
      ]
     },
     "execution_count": 43,
     "metadata": {},
     "output_type": "execute_result"
    }
   ],
   "source": [
    "is_vowel(\"b\")"
   ]
  },
  {
   "cell_type": "code",
   "execution_count": 44,
   "id": "65054155",
   "metadata": {},
   "outputs": [
    {
     "data": {
      "text/plain": [
       "True"
      ]
     },
     "execution_count": 44,
     "metadata": {},
     "output_type": "execute_result"
    }
   ],
   "source": [
    "is_vowel(\"o\")"
   ]
  },
  {
   "cell_type": "code",
   "execution_count": 46,
   "id": "3d8b19cf",
   "metadata": {},
   "outputs": [],
   "source": [
    "#or\n",
    "def is_vowel(x):\n",
    "    regexp = r'^[aeiou]$'\n",
    "    if re.search(regexp, x, re.IGNORECASE):\n",
    "        return True\n",
    "    else:\n",
    "        return False\n",
    "    "
   ]
  },
  {
   "cell_type": "code",
   "execution_count": 47,
   "id": "cd7af205",
   "metadata": {},
   "outputs": [
    {
     "data": {
      "text/plain": [
       "True"
      ]
     },
     "execution_count": 47,
     "metadata": {},
     "output_type": "execute_result"
    }
   ],
   "source": [
    "is_vowel(\"A\")"
   ]
  },
  {
   "cell_type": "code",
   "execution_count": 10,
   "id": "beaa0be4",
   "metadata": {},
   "outputs": [
    {
     "data": {
      "text/plain": [
       "False"
      ]
     },
     "execution_count": 10,
     "metadata": {},
     "output_type": "execute_result"
    }
   ],
   "source": [
    "is_vowel(\"c\")"
   ]
  },
  {
   "cell_type": "markdown",
   "id": "63e3d4d4",
   "metadata": {},
   "source": [
    "### 2. Write a function named is_valid_username that accepts a string as input. A valid username starts with a lowercase letter, and only consists of lowercase letters, numbers, or the _ character. It should also be no longer than 32 characters. The function should return either True or False depending on whether the passed string is a valid username."
   ]
  },
  {
   "cell_type": "markdown",
   "id": "e999c1b8",
   "metadata": {},
   "source": [
    "        >>>is_valid_username('aaaaaaaaaaaaaaaaaaaaaaaaaaaaaaaaa')\n",
    "    False\n",
    "    >>> is_valid_username('codeup')\n",
    "    True\n",
    "    >>> is_valid_username('Codeup')\n",
    "    False\n",
    "    >>> is_valid_username('codeup123')\n",
    "    True\n",
    "    >>> is_valid_username('1codeup')\n",
    "    False\n"
   ]
  },
  {
   "cell_type": "code",
   "execution_count": 12,
   "id": "a8b437d4",
   "metadata": {},
   "outputs": [],
   "source": [
    "def is_valid_username(string):\n",
    "    regexp = r'^[a-z][a-z0-9_]{1,31}$'\n",
    "    #regeexp = r'^[a-z]/w{,31}$' same\n",
    "    # /w includes _ also\n",
    "    return bool(re.search(regexp, string))\n"
   ]
  },
  {
   "cell_type": "code",
   "execution_count": 13,
   "id": "accfd89e",
   "metadata": {},
   "outputs": [
    {
     "data": {
      "text/plain": [
       "False"
      ]
     },
     "execution_count": 13,
     "metadata": {},
     "output_type": "execute_result"
    }
   ],
   "source": [
    "is_valid_username('aaaaaaaaaaaaaaaaaaaaaaaaaaaaaaaaa')"
   ]
  },
  {
   "cell_type": "code",
   "execution_count": 14,
   "id": "9ef4725a",
   "metadata": {},
   "outputs": [
    {
     "data": {
      "text/plain": [
       "True"
      ]
     },
     "execution_count": 14,
     "metadata": {},
     "output_type": "execute_result"
    }
   ],
   "source": [
    "is_valid_username('codeup')"
   ]
  },
  {
   "cell_type": "code",
   "execution_count": 15,
   "id": "1af1e516",
   "metadata": {},
   "outputs": [
    {
     "data": {
      "text/plain": [
       "False"
      ]
     },
     "execution_count": 15,
     "metadata": {},
     "output_type": "execute_result"
    }
   ],
   "source": [
    "is_valid_username('Codeup')"
   ]
  },
  {
   "cell_type": "code",
   "execution_count": 16,
   "id": "210cb442",
   "metadata": {},
   "outputs": [
    {
     "data": {
      "text/plain": [
       "True"
      ]
     },
     "execution_count": 16,
     "metadata": {},
     "output_type": "execute_result"
    }
   ],
   "source": [
    "is_valid_username('codeup123')"
   ]
  },
  {
   "cell_type": "code",
   "execution_count": 142,
   "id": "2b0d8b8d",
   "metadata": {},
   "outputs": [
    {
     "data": {
      "text/plain": [
       "False"
      ]
     },
     "execution_count": 142,
     "metadata": {},
     "output_type": "execute_result"
    }
   ],
   "source": [
    "is_valid_username('1codeup')"
   ]
  },
  {
   "cell_type": "code",
   "execution_count": 17,
   "id": "a98e23ad",
   "metadata": {},
   "outputs": [
    {
     "data": {
      "text/plain": [
       "True"
      ]
     },
     "execution_count": 17,
     "metadata": {},
     "output_type": "execute_result"
    }
   ],
   "source": [
    "is_valid_username('code_up')"
   ]
  },
  {
   "cell_type": "markdown",
   "id": "4880f384",
   "metadata": {},
   "source": [
    "### 3. Write a regular expression to capture phone numbers. It should match all of the following:"
   ]
  },
  {
   "cell_type": "markdown",
   "id": "802d6358",
   "metadata": {},
   "source": [
    "    (210) 867 5309\n",
    "    +1 210.867.5309\n",
    "    867-5309\n",
    "    210-867-5309\n"
   ]
  },
  {
   "cell_type": "code",
   "execution_count": 49,
   "id": "2fe37bc6",
   "metadata": {},
   "outputs": [],
   "source": [
    "s = \"+1(227)9993449\"\n",
    "regexp = r'\\+[(?0-9)]*'"
   ]
  },
  {
   "cell_type": "code",
   "execution_count": 50,
   "id": "e54ea011",
   "metadata": {},
   "outputs": [
    {
     "data": {
      "text/plain": [
       "['+1(227)9993449']"
      ]
     },
     "execution_count": 50,
     "metadata": {},
     "output_type": "execute_result"
    }
   ],
   "source": [
    "re.findall(regexp, s)"
   ]
  },
  {
   "cell_type": "code",
   "execution_count": 121,
   "id": "ad09e5be",
   "metadata": {},
   "outputs": [],
   "source": [
    "s = \"2279993449\"\n",
    "regexp = r'\\+?[(?0-9)]+'"
   ]
  },
  {
   "cell_type": "code",
   "execution_count": 122,
   "id": "ab4f1bd6",
   "metadata": {},
   "outputs": [
    {
     "data": {
      "text/plain": [
       "['2279993449']"
      ]
     },
     "execution_count": 122,
     "metadata": {},
     "output_type": "execute_result"
    }
   ],
   "source": [
    "re.findall(regexp, s)"
   ]
  },
  {
   "cell_type": "code",
   "execution_count": 120,
   "id": "1154b8e4",
   "metadata": {},
   "outputs": [
    {
     "data": {
      "text/plain": [
       "['(210) 867 5309']"
      ]
     },
     "execution_count": 120,
     "metadata": {},
     "output_type": "execute_result"
    }
   ],
   "source": [
    "s= '(210) 867 5309'\n",
    "regexp = r'\\+?[(?0-9) ]+'\n",
    "re.findall(regexp, s)"
   ]
  },
  {
   "cell_type": "code",
   "execution_count": 123,
   "id": "3f66a55d",
   "metadata": {},
   "outputs": [
    {
     "data": {
      "text/plain": [
       "['867 5309']"
      ]
     },
     "execution_count": 123,
     "metadata": {},
     "output_type": "execute_result"
    }
   ],
   "source": [
    "s= '867 5309'\n",
    "regexp = r'\\+?[(?0-9) ]+'\n",
    "re.findall(regexp, s)"
   ]
  },
  {
   "cell_type": "code",
   "execution_count": 134,
   "id": "36647eee",
   "metadata": {},
   "outputs": [
    {
     "data": {
      "text/plain": [
       "['210-867-5309']"
      ]
     },
     "execution_count": 134,
     "metadata": {},
     "output_type": "execute_result"
    }
   ],
   "source": [
    "s =\"210-867-5309\"\n",
    "regexp = r'\\+?[(?0-9)-?]+'\n",
    "re.findall(regexp, s)"
   ]
  },
  {
   "cell_type": "code",
   "execution_count": 143,
   "id": "077878be",
   "metadata": {},
   "outputs": [
    {
     "data": {
      "text/plain": [
       "['(210) 867 5309']"
      ]
     },
     "execution_count": 143,
     "metadata": {},
     "output_type": "execute_result"
    }
   ],
   "source": [
    "s= '(210) 867 5309'\n",
    "regexp = r'\\+?[(?0-9) ]+'\n",
    "re.findall(regexp, s)"
   ]
  },
  {
   "cell_type": "code",
   "execution_count": 51,
   "id": "7437e3b0",
   "metadata": {},
   "outputs": [
    {
     "data": {
      "text/plain": [
       "[]"
      ]
     },
     "execution_count": 51,
     "metadata": {},
     "output_type": "execute_result"
    }
   ],
   "source": [
    "s=\"+1 210.867.5309\"\n",
    "regexp = r'\\+?[1?]\\s?[\\d+]\\.[\\d+]\\.[\\d+]$'\n",
    "re.findall(regexp, s)"
   ]
  },
  {
   "cell_type": "code",
   "execution_count": 200,
   "id": "400b17bd",
   "metadata": {},
   "outputs": [
    {
     "data": {
      "text/plain": [
       "[') 867 5309']"
      ]
     },
     "execution_count": 200,
     "metadata": {},
     "output_type": "execute_result"
    }
   ],
   "source": [
    "s = \"(210) 867 5309\"\n"
   ]
  },
  {
   "cell_type": "code",
   "execution_count": null,
   "id": "ab0ea6ee",
   "metadata": {},
   "outputs": [],
   "source": [
    "r'\\+?[1?]\\s?"
   ]
  },
  {
   "cell_type": "code",
   "execution_count": 18,
   "id": "84bec6f2",
   "metadata": {},
   "outputs": [],
   "source": [
    "numbers = ['(210) 867 5309' ,\n",
    "           '+1 210.867.5309',\n",
    "            '867-5309',\n",
    "            '210-867-5309']\n"
   ]
  },
  {
   "cell_type": "code",
   "execution_count": 72,
   "id": "5da49e98",
   "metadata": {},
   "outputs": [
    {
     "name": "stdout",
     "output_type": "stream",
     "text": [
      "['(210) 867 5309']\n",
      "['+1 210.867.5309']\n",
      "['867-5309']\n",
      "['210-867-5309']\n"
     ]
    }
   ],
   "source": [
    "regexp = r'.*?\\d+\\D\\d+\\D?\\d+$'\n",
    "for number in numbers:\n",
    "    print(re.findall(regexp, number))"
   ]
  },
  {
   "cell_type": "markdown",
   "id": "4e984f64",
   "metadata": {},
   "source": [
    "### 4. Use regular expressions to convert the dates below to the standardized year-month-day format."
   ]
  },
  {
   "cell_type": "markdown",
   "id": "c15cd603",
   "metadata": {},
   "source": [
    "    02/04/19\n",
    "    02/05/19\n",
    "    02/06/19\n",
    "    02/07/19\n",
    "    02/08/19\n",
    "    02/09/19\n",
    "    02/10/19\n"
   ]
  },
  {
   "cell_type": "code",
   "execution_count": 19,
   "id": "1141dd47",
   "metadata": {},
   "outputs": [],
   "source": [
    "dates = ['02/04/19',\n",
    "'02/05/19',\n",
    "'02/06/19',\n",
    "'02/07/19',\n",
    "'02/08/19',\n",
    "'02/09/19',\n",
    "'02/10/19']"
   ]
  },
  {
   "cell_type": "code",
   "execution_count": 44,
   "id": "7c736d01",
   "metadata": {},
   "outputs": [
    {
     "name": "stdout",
     "output_type": "stream",
     "text": [
      "[('02', '04', '19')]\n",
      "[('02', '05', '19')]\n",
      "[('02', '06', '19')]\n",
      "[('02', '07', '19')]\n",
      "[('02', '08', '19')]\n",
      "[('02', '09', '19')]\n",
      "[('02', '10', '19')]\n"
     ]
    }
   ],
   "source": [
    "regexp = r'(\\d{2})/(\\d{2})/(\\d{2})'\n",
    "\n",
    "for date in dates:\n",
    "    print(re.findall(regexp, date))"
   ]
  },
  {
   "cell_type": "code",
   "execution_count": 41,
   "id": "532dc87a",
   "metadata": {},
   "outputs": [
    {
     "name": "stdout",
     "output_type": "stream",
     "text": [
      "2019-02-04\n",
      "2019-02-05\n",
      "2019-02-06\n",
      "2019-02-07\n",
      "2019-02-08\n",
      "2019-02-09\n",
      "2019-02-10\n"
     ]
    }
   ],
   "source": [
    "for date in dates:\n",
    "    print(re.sub(regexp, r'20\\3-\\1-\\2', date))"
   ]
  },
  {
   "cell_type": "markdown",
   "id": "b48d8b36",
   "metadata": {},
   "source": [
    "### 5. Write a regex to extract the various parts of these logfile lines:\n",
    "\n"
   ]
  },
  {
   "cell_type": "code",
   "execution_count": 12,
   "id": "da3b6467",
   "metadata": {},
   "outputs": [],
   "source": [
    "logs = '''\n",
    "GET /api/v1/sales?page=86 [16/Apr/2019:193452+0000] HTTP/1.1 {200} 510348 \"python-requests/2.21.0\" 97.105.19.58\n",
    "POST /users_accounts/file-upload [16/Apr/2019:193452+0000] HTTP/1.1 {201} 42 \"User-Agent: Mozilla/5.0 (X11; Fedora; Fedora; Linux x86_64) AppleWebKit/537.36 (KHTML, like Gecko) Chrome/73.0.3683.86 Safari/537.36\" 97.105.19.58\n",
    "GET /api/v1/items?page=3 [16/Apr/2019:193453+0000] HTTP/1.1 {429} 3561 \"python-requests/2.21.0\" 97.105.19.58\n",
    "'''"
   ]
  },
  {
   "cell_type": "code",
   "execution_count": 13,
   "id": "93eaa2ef",
   "metadata": {},
   "outputs": [
    {
     "name": "stdout",
     "output_type": "stream",
     "text": [
      "\n",
      "GET /api/v1/sales?page=86 [16/Apr/2019:193452+0000] HTTP/1.1 {200} 510348 \"python-requests/2.21.0\" 97.105.19.58\n",
      "POST /users_accounts/file-upload [16/Apr/2019:193452+0000] HTTP/1.1 {201} 42 \"User-Agent: Mozilla/5.0 (X11; Fedora; Fedora; Linux x86_64) AppleWebKit/537.36 (KHTML, like Gecko) Chrome/73.0.3683.86 Safari/537.36\" 97.105.19.58\n",
      "GET /api/v1/items?page=3 [16/Apr/2019:193453+0000] HTTP/1.1 {429} 3561 \"python-requests/2.21.0\" 97.105.19.58\n",
      "\n"
     ]
    }
   ],
   "source": [
    "print(logs)"
   ]
  },
  {
   "cell_type": "code",
   "execution_count": 14,
   "id": "e75b3a91",
   "metadata": {},
   "outputs": [
    {
     "data": {
      "text/plain": [
       "['GET /api/v1/sales?page=86 [16/Apr/2019:193452+0000] HTTP/1.1 {200} 510348 \"python-requests/2.21.0\" 97.105.19.58',\n",
       " 'POST /users_accounts/file-upload [16/Apr/2019:193452+0000] HTTP/1.1 {201} 42 \"User-Agent: Mozilla/5.0 (X11; Fedora; Fedora; Linux x86_64) AppleWebKit/537.36 (KHTML, like Gecko) Chrome/73.0.3683.86 Safari/537.36\" 97.105.19.58',\n",
       " 'GET /api/v1/items?page=3 [16/Apr/2019:193453+0000] HTTP/1.1 {429} 3561 \"python-requests/2.21.0\" 97.105.19.58']"
      ]
     },
     "execution_count": 14,
     "metadata": {},
     "output_type": "execute_result"
    }
   ],
   "source": [
    "logs = logs.strip().split(\"\\n\")\n",
    "logs"
   ]
  },
  {
   "cell_type": "code",
   "execution_count": 15,
   "id": "628bf90d",
   "metadata": {},
   "outputs": [
    {
     "data": {
      "text/plain": [
       "'GET /api/v1/sales?page=86 [16/Apr/2019:193452+0000] HTTP/1.1 {200} 510348 \"python-requests/2.21.0\" 97.105.19.58'"
      ]
     },
     "execution_count": 15,
     "metadata": {},
     "output_type": "execute_result"
    }
   ],
   "source": [
    "logs[0]"
   ]
  },
  {
   "cell_type": "code",
   "execution_count": 32,
   "id": "a5a32f31",
   "metadata": {},
   "outputs": [
    {
     "data": {
      "text/plain": [
       "[('GET',\n",
       "  '/api/v1/sales?page=86',\n",
       "  '16/Apr/2019',\n",
       "  'HTTP/1.1',\n",
       "  '200',\n",
       "  '510348',\n",
       "  'python-requests/2.21.0',\n",
       "  '97.105.19.58')]"
      ]
     },
     "execution_count": 32,
     "metadata": {},
     "output_type": "execute_result"
    }
   ],
   "source": [
    "regexp = r'(\\w+)\\s(.*?)\\s\\[(.*?)\\:.*?\\s(.*?)\\s\\{(\\d+)}\\s(\\d+)\\s\"(.*?)\"\\s(.*)'\n",
    "\n",
    "\n",
    "re.findall(regexp, logs[0])"
   ]
  },
  {
   "cell_type": "code",
   "execution_count": 33,
   "id": "dc73944a",
   "metadata": {},
   "outputs": [
    {
     "data": {
      "text/plain": [
       "{'method_request': 'GET',\n",
       " 'path': '/api/v1/sales?page=86',\n",
       " 'date': '16/Apr/2019',\n",
       " 'http_version': 'HTTP/1.1',\n",
       " 'response_code': '200',\n",
       " 'size_bytes': '510348',\n",
       " 'user_agent': 'python-requests/2.21.0',\n",
       " 'ip_address': '97.105.19.58'}"
      ]
     },
     "execution_count": 33,
     "metadata": {},
     "output_type": "execute_result"
    }
   ],
   "source": [
    "regexp = r'''\n",
    "        (?P<method_request>\\w+)\\s\n",
    "        (?P<path>.*?)\\s\\[\n",
    "        (?P<date>.*?)\\:.*?\\s\n",
    "        (?P<http_version>.*?)\\s\\{\n",
    "        (?P<response_code>\\d+)\\}\\s\n",
    "        (?P<size_bytes>\\d+)\\s\"\n",
    "        (?P<user_agent>.*?)\"\\s\n",
    "        (?P<ip_address>.*)\n",
    "        '''\n",
    "re.search(regexp, logs[0], re.VERBOSE).groupdict()\n"
   ]
  },
  {
   "cell_type": "code",
   "execution_count": 39,
   "id": "eff33dac",
   "metadata": {},
   "outputs": [
    {
     "data": {
      "text/plain": [
       "[{'method_request': 'GET',\n",
       "  'path': '/api/v1/sales?page=86',\n",
       "  'date': '16/Apr/2019',\n",
       "  'http_version': 'HTTP/1.1',\n",
       "  'response_code': '200',\n",
       "  'size_bytes': '510348',\n",
       "  'user_agent': 'python-requests/2.21.0',\n",
       "  'ip_address': '97.105.19.58'},\n",
       " {'method_request': 'POST',\n",
       "  'path': '/users_accounts/file-upload',\n",
       "  'date': '16/Apr/2019',\n",
       "  'http_version': 'HTTP/1.1',\n",
       "  'response_code': '201',\n",
       "  'size_bytes': '42',\n",
       "  'user_agent': 'User-Agent: Mozilla/5.0 (X11; Fedora; Fedora; Linux x86_64) AppleWebKit/537.36 (KHTML, like Gecko) Chrome/73.0.3683.86 Safari/537.36',\n",
       "  'ip_address': '97.105.19.58'},\n",
       " {'method_request': 'GET',\n",
       "  'path': '/api/v1/items?page=3',\n",
       "  'date': '16/Apr/2019',\n",
       "  'http_version': 'HTTP/1.1',\n",
       "  'response_code': '429',\n",
       "  'size_bytes': '3561',\n",
       "  'user_agent': 'python-requests/2.21.0',\n",
       "  'ip_address': '97.105.19.58'}]"
      ]
     },
     "execution_count": 39,
     "metadata": {},
     "output_type": "execute_result"
    }
   ],
   "source": [
    "logs_parsed = [re.search(regexp,log,re.VERBOSE).groupdict() for log in logs]\n",
    "logs_parsed"
   ]
  },
  {
   "cell_type": "code",
   "execution_count": 41,
   "id": "523cc05a",
   "metadata": {},
   "outputs": [
    {
     "data": {
      "text/html": [
       "<div>\n",
       "<style scoped>\n",
       "    .dataframe tbody tr th:only-of-type {\n",
       "        vertical-align: middle;\n",
       "    }\n",
       "\n",
       "    .dataframe tbody tr th {\n",
       "        vertical-align: top;\n",
       "    }\n",
       "\n",
       "    .dataframe thead th {\n",
       "        text-align: right;\n",
       "    }\n",
       "</style>\n",
       "<table border=\"1\" class=\"dataframe\">\n",
       "  <thead>\n",
       "    <tr style=\"text-align: right;\">\n",
       "      <th></th>\n",
       "      <th>method_request</th>\n",
       "      <th>path</th>\n",
       "      <th>date</th>\n",
       "      <th>http_version</th>\n",
       "      <th>response_code</th>\n",
       "      <th>size_bytes</th>\n",
       "      <th>user_agent</th>\n",
       "      <th>ip_address</th>\n",
       "    </tr>\n",
       "  </thead>\n",
       "  <tbody>\n",
       "    <tr>\n",
       "      <th>0</th>\n",
       "      <td>GET</td>\n",
       "      <td>/api/v1/sales?page=86</td>\n",
       "      <td>16/Apr/2019</td>\n",
       "      <td>HTTP/1.1</td>\n",
       "      <td>200</td>\n",
       "      <td>510348</td>\n",
       "      <td>python-requests/2.21.0</td>\n",
       "      <td>97.105.19.58</td>\n",
       "    </tr>\n",
       "    <tr>\n",
       "      <th>1</th>\n",
       "      <td>POST</td>\n",
       "      <td>/users_accounts/file-upload</td>\n",
       "      <td>16/Apr/2019</td>\n",
       "      <td>HTTP/1.1</td>\n",
       "      <td>201</td>\n",
       "      <td>42</td>\n",
       "      <td>User-Agent: Mozilla/5.0 (X11; Fedora; Fedora; ...</td>\n",
       "      <td>97.105.19.58</td>\n",
       "    </tr>\n",
       "    <tr>\n",
       "      <th>2</th>\n",
       "      <td>GET</td>\n",
       "      <td>/api/v1/items?page=3</td>\n",
       "      <td>16/Apr/2019</td>\n",
       "      <td>HTTP/1.1</td>\n",
       "      <td>429</td>\n",
       "      <td>3561</td>\n",
       "      <td>python-requests/2.21.0</td>\n",
       "      <td>97.105.19.58</td>\n",
       "    </tr>\n",
       "  </tbody>\n",
       "</table>\n",
       "</div>"
      ],
      "text/plain": [
       "  method_request                         path         date http_version  \\\n",
       "0            GET        /api/v1/sales?page=86  16/Apr/2019     HTTP/1.1   \n",
       "1           POST  /users_accounts/file-upload  16/Apr/2019     HTTP/1.1   \n",
       "2            GET         /api/v1/items?page=3  16/Apr/2019     HTTP/1.1   \n",
       "\n",
       "  response_code size_bytes                                         user_agent  \\\n",
       "0           200     510348                             python-requests/2.21.0   \n",
       "1           201         42  User-Agent: Mozilla/5.0 (X11; Fedora; Fedora; ...   \n",
       "2           429       3561                             python-requests/2.21.0   \n",
       "\n",
       "     ip_address  \n",
       "0  97.105.19.58  \n",
       "1  97.105.19.58  \n",
       "2  97.105.19.58  "
      ]
     },
     "execution_count": 41,
     "metadata": {},
     "output_type": "execute_result"
    }
   ],
   "source": [
    "pd.DataFrame(logs_parsed)"
   ]
  },
  {
   "cell_type": "markdown",
   "id": "0518e4fb",
   "metadata": {},
   "source": [
    "### Bonus"
   ]
  },
  {
   "cell_type": "code",
   "execution_count": null,
   "id": "7a3fab85",
   "metadata": {},
   "outputs": [],
   "source": []
  }
 ],
 "metadata": {
  "kernelspec": {
   "display_name": "Python 3 (ipykernel)",
   "language": "python",
   "name": "python3"
  },
  "language_info": {
   "codemirror_mode": {
    "name": "ipython",
    "version": 3
   },
   "file_extension": ".py",
   "mimetype": "text/x-python",
   "name": "python",
   "nbconvert_exporter": "python",
   "pygments_lexer": "ipython3",
   "version": "3.9.12"
  }
 },
 "nbformat": 4,
 "nbformat_minor": 5
}
