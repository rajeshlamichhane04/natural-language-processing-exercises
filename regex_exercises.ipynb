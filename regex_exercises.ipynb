{
 "cells": [
  {
   "cell_type": "code",
   "execution_count": 1,
   "id": "38b08719",
   "metadata": {},
   "outputs": [],
   "source": [
    "import pandas as pd\n",
    "import numpy as np\n",
    "import re"
   ]
  },
  {
   "cell_type": "markdown",
   "id": "68681d3d",
   "metadata": {},
   "source": [
    "### 1. Write a function named is_vowel. It should accept a string as input and use a regular expression to determine if the passed string is a vowel. While not explicity mentioned in the lesson, you can treat the result of re.search as a boolean value that indicates whether or not the regular expression matches the given string"
   ]
  },
  {
   "cell_type": "code",
   "execution_count": 49,
   "id": "47790317",
   "metadata": {},
   "outputs": [],
   "source": [
    "def is_there_vowel(string):\n",
    "    return bool(re.search(r'[aeiou]', string, re.IGNORECASE))"
   ]
  },
  {
   "cell_type": "code",
   "execution_count": 86,
   "id": "99b5b93c",
   "metadata": {},
   "outputs": [
    {
     "data": {
      "text/plain": [
       "False"
      ]
     },
     "execution_count": 86,
     "metadata": {},
     "output_type": "execute_result"
    }
   ],
   "source": [
    "is_there_vowel(\"b\")"
   ]
  },
  {
   "cell_type": "code",
   "execution_count": 96,
   "id": "65054155",
   "metadata": {},
   "outputs": [
    {
     "data": {
      "text/plain": [
       "True"
      ]
     },
     "execution_count": 96,
     "metadata": {},
     "output_type": "execute_result"
    }
   ],
   "source": [
    "is_there_vowel(\"o\")"
   ]
  },
  {
   "cell_type": "markdown",
   "id": "63e3d4d4",
   "metadata": {},
   "source": [
    "### 2. Write a function named is_valid_username that accepts a string as input. A valid username starts with a lowercase letter, and only consists of lowercase letters, numbers, or the _ character. It should also be no longer than 32 characters. The function should return either True or False depending on whether the passed string is a valid username."
   ]
  },
  {
   "cell_type": "code",
   "execution_count": 137,
   "id": "a8b437d4",
   "metadata": {},
   "outputs": [],
   "source": [
    "def is_valid_username(string):\n",
    "    regexp = r'^[a-z][a-z0-9_]{1,32}$'\n",
    "    \n",
    "    return bool(re.search(regexp, string))\n"
   ]
  },
  {
   "cell_type": "code",
   "execution_count": 138,
   "id": "accfd89e",
   "metadata": {},
   "outputs": [
    {
     "data": {
      "text/plain": [
       "True"
      ]
     },
     "execution_count": 138,
     "metadata": {},
     "output_type": "execute_result"
    }
   ],
   "source": [
    "is_valid_username('aaaaaaaaaaaaaaaaaaaaaaa')"
   ]
  },
  {
   "cell_type": "code",
   "execution_count": 139,
   "id": "9ef4725a",
   "metadata": {},
   "outputs": [
    {
     "data": {
      "text/plain": [
       "True"
      ]
     },
     "execution_count": 139,
     "metadata": {},
     "output_type": "execute_result"
    }
   ],
   "source": [
    "is_valid_username('codeup')"
   ]
  },
  {
   "cell_type": "code",
   "execution_count": 140,
   "id": "1af1e516",
   "metadata": {},
   "outputs": [
    {
     "data": {
      "text/plain": [
       "False"
      ]
     },
     "execution_count": 140,
     "metadata": {},
     "output_type": "execute_result"
    }
   ],
   "source": [
    "is_valid_username('Codeup')"
   ]
  },
  {
   "cell_type": "code",
   "execution_count": 141,
   "id": "210cb442",
   "metadata": {},
   "outputs": [
    {
     "data": {
      "text/plain": [
       "True"
      ]
     },
     "execution_count": 141,
     "metadata": {},
     "output_type": "execute_result"
    }
   ],
   "source": [
    "is_valid_username('codeup123')"
   ]
  },
  {
   "cell_type": "code",
   "execution_count": 142,
   "id": "2b0d8b8d",
   "metadata": {},
   "outputs": [
    {
     "data": {
      "text/plain": [
       "False"
      ]
     },
     "execution_count": 142,
     "metadata": {},
     "output_type": "execute_result"
    }
   ],
   "source": [
    "is_valid_username('1codeup')"
   ]
  },
  {
   "cell_type": "code",
   "execution_count": null,
   "id": "a98e23ad",
   "metadata": {},
   "outputs": [],
   "source": []
  },
  {
   "cell_type": "markdown",
   "id": "4880f384",
   "metadata": {},
   "source": [
    "### 3. Write a regular expression to capture phone numbers. It should match all of the following:"
   ]
  },
  {
   "cell_type": "code",
   "execution_count": 103,
   "id": "2fe37bc6",
   "metadata": {},
   "outputs": [],
   "source": [
    "s = \"+1(227)9993449\"\n",
    "regexp = r'\\+[(?0-9)]+'"
   ]
  },
  {
   "cell_type": "code",
   "execution_count": 104,
   "id": "e54ea011",
   "metadata": {},
   "outputs": [
    {
     "data": {
      "text/plain": [
       "['+1(227)9993449']"
      ]
     },
     "execution_count": 104,
     "metadata": {},
     "output_type": "execute_result"
    }
   ],
   "source": [
    "re.findall(regexp, s)"
   ]
  },
  {
   "cell_type": "code",
   "execution_count": 121,
   "id": "ad09e5be",
   "metadata": {},
   "outputs": [],
   "source": [
    "s = \"2279993449\"\n",
    "regexp = r'\\+?[(?0-9)]+'"
   ]
  },
  {
   "cell_type": "code",
   "execution_count": 122,
   "id": "ab4f1bd6",
   "metadata": {},
   "outputs": [
    {
     "data": {
      "text/plain": [
       "['2279993449']"
      ]
     },
     "execution_count": 122,
     "metadata": {},
     "output_type": "execute_result"
    }
   ],
   "source": [
    "re.findall(regexp, s)"
   ]
  },
  {
   "cell_type": "code",
   "execution_count": 120,
   "id": "1154b8e4",
   "metadata": {},
   "outputs": [
    {
     "data": {
      "text/plain": [
       "['(210) 867 5309']"
      ]
     },
     "execution_count": 120,
     "metadata": {},
     "output_type": "execute_result"
    }
   ],
   "source": [
    "s= '(210) 867 5309'\n",
    "regexp = r'\\+?[(?0-9) ]+'\n",
    "re.findall(regexp, s)"
   ]
  },
  {
   "cell_type": "code",
   "execution_count": 123,
   "id": "3f66a55d",
   "metadata": {},
   "outputs": [
    {
     "data": {
      "text/plain": [
       "['867 5309']"
      ]
     },
     "execution_count": 123,
     "metadata": {},
     "output_type": "execute_result"
    }
   ],
   "source": [
    "s= '867 5309'\n",
    "regexp = r'\\+?[(?0-9) ]+'\n",
    "re.findall(regexp, s)"
   ]
  },
  {
   "cell_type": "code",
   "execution_count": 134,
   "id": "36647eee",
   "metadata": {},
   "outputs": [
    {
     "data": {
      "text/plain": [
       "['210-867-5309']"
      ]
     },
     "execution_count": 134,
     "metadata": {},
     "output_type": "execute_result"
    }
   ],
   "source": [
    "s =\"210-867-5309\"\n",
    "regexp = r'\\+?[(?0-9)-?]+'\n",
    "re.findall(regexp, s)"
   ]
  },
  {
   "cell_type": "code",
   "execution_count": 135,
   "id": "f81091d6",
   "metadata": {},
   "outputs": [
    {
     "data": {
      "text/plain": [
       "['+1(227)9993449']"
      ]
     },
     "execution_count": 135,
     "metadata": {},
     "output_type": "execute_result"
    }
   ],
   "source": [
    "s = \"+1(227)9993449\"\n",
    "re.findall(regexp, s)"
   ]
  },
  {
   "cell_type": "code",
   "execution_count": 143,
   "id": "077878be",
   "metadata": {},
   "outputs": [
    {
     "data": {
      "text/plain": [
       "['(210) 867 5309']"
      ]
     },
     "execution_count": 143,
     "metadata": {},
     "output_type": "execute_result"
    }
   ],
   "source": [
    "s= '(210) 867 5309'\n",
    "regexp = r'\\+?[(?0-9) ]+'\n",
    "re.findall(regexp, s)"
   ]
  },
  {
   "cell_type": "code",
   "execution_count": 191,
   "id": "7437e3b0",
   "metadata": {},
   "outputs": [
    {
     "data": {
      "text/plain": [
       "['+1 210.867.5309']"
      ]
     },
     "execution_count": 191,
     "metadata": {},
     "output_type": "execute_result"
    }
   ],
   "source": [
    "s=\"+1 210.867.5309\"\n",
    "regexp = r'\\+?[1?]\\s?[\\d]{3}\\.[\\d]{3}\\.[\\d]{4}'\n",
    "re.findall(regexp, s)"
   ]
  },
  {
   "cell_type": "code",
   "execution_count": 200,
   "id": "400b17bd",
   "metadata": {},
   "outputs": [
    {
     "data": {
      "text/plain": [
       "[') 867 5309']"
      ]
     },
     "execution_count": 200,
     "metadata": {},
     "output_type": "execute_result"
    }
   ],
   "source": [
    "s = \"(210) 867 5309\"\n"
   ]
  },
  {
   "cell_type": "code",
   "execution_count": null,
   "id": "ab0ea6ee",
   "metadata": {},
   "outputs": [],
   "source": [
    "r'\\+?[1?]\\s?"
   ]
  },
  {
   "cell_type": "code",
   "execution_count": null,
   "id": "84bec6f2",
   "metadata": {},
   "outputs": [],
   "source": []
  }
 ],
 "metadata": {
  "kernelspec": {
   "display_name": "Python 3 (ipykernel)",
   "language": "python",
   "name": "python3"
  },
  "language_info": {
   "codemirror_mode": {
    "name": "ipython",
    "version": 3
   },
   "file_extension": ".py",
   "mimetype": "text/x-python",
   "name": "python",
   "nbconvert_exporter": "python",
   "pygments_lexer": "ipython3",
   "version": "3.9.12"
  }
 },
 "nbformat": 4,
 "nbformat_minor": 5
}
