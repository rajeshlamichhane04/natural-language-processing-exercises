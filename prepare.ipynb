{
 "cells": [
  {
   "cell_type": "code",
   "execution_count": 36,
   "id": "135f7c17",
   "metadata": {},
   "outputs": [],
   "source": [
    "import pandas as pd\n",
    "import numpy as np\n",
    "import unicodedata\n",
    "import nltk\n",
    "from nltk.corpus import stopwords\n",
    "import re\n",
    "import warnings\n",
    "warnings.filterwarnings(\"ignore\")\n",
    "import acquire"
   ]
  },
  {
   "cell_type": "markdown",
   "id": "475da894",
   "metadata": {},
   "source": [
    "### 1. Define a function named basic_clean. It should take in a string and apply some basic text cleaning to it:\n",
    "> - Lowercase everything\n",
    "> - Normalize unicode characters\n",
    "> - Replace anything that is not a letter, number, whitespace or a single quote.\n"
   ]
  },
  {
   "cell_type": "code",
   "execution_count": 37,
   "id": "b701a786",
   "metadata": {},
   "outputs": [
    {
     "data": {
      "text/plain": [
       "\"Paul Erdős and George Pólya are influential Hungarian mathematicians who contributed a lot to the field. Erdős's name contains the Hungarian letter 'ő' ('o' with double acute accent), but is often incorrectly written as Erdos or Erdös either by mistake or out of typographical necessity\""
      ]
     },
     "execution_count": 37,
     "metadata": {},
     "output_type": "execute_result"
    }
   ],
   "source": [
    "original = \"Paul Erdős and George Pólya are influential Hungarian mathematicians who contributed \\\n",
    "a lot to the field. Erdős's name contains the Hungarian letter 'ő' ('o' with double acute accent), \\\n",
    "but is often incorrectly written as Erdos or Erdös either by mistake or out of typographical necessity\"\n",
    "original"
   ]
  },
  {
   "cell_type": "code",
   "execution_count": 38,
   "id": "bdb612ef",
   "metadata": {},
   "outputs": [],
   "source": [
    "def basic_clean(string):\n",
    "    #cast to lower case\n",
    "    string = string.lower()\n",
    "    #remove accented and non Ascii characters\n",
    "    string = unicodedata.normalize(\"NFKD\", string)\\\n",
    "            .encode(\"ascii\", \"ignore\")\\\n",
    "            .decode(\"utf-8\")\n",
    "    # remove special characters\n",
    "    string = re.sub(r'[^a-z0-9\\s]',\"\", string)\n",
    "    \n",
    "    return string"
   ]
  },
  {
   "cell_type": "code",
   "execution_count": 39,
   "id": "f8e60094",
   "metadata": {},
   "outputs": [
    {
     "data": {
      "text/plain": [
       "'paul erdos and george polya are influential hungarian mathematicians who contributed a lot to the field erdoss name contains the hungarian letter o o with double acute accent but is often incorrectly written as erdos or erdos either by mistake or out of typographical necessity'"
      ]
     },
     "execution_count": 39,
     "metadata": {},
     "output_type": "execute_result"
    }
   ],
   "source": [
    "basic_clean(original)"
   ]
  },
  {
   "cell_type": "markdown",
   "id": "047e318a",
   "metadata": {},
   "source": [
    "### 2. Define a function named tokenize. It should take in a string and tokenize all the words in the string"
   ]
  },
  {
   "cell_type": "code",
   "execution_count": 40,
   "id": "5fe377f0",
   "metadata": {},
   "outputs": [],
   "source": [
    "def tokenize(string):\n",
    "    #create tokenizer\n",
    "    tokenize = nltk.tokenize.ToktokTokenizer()\n",
    "    #use tokenizer\n",
    "    string = tokenize.tokenize(string, return_str=True)\n",
    "    \n",
    "    return string\n",
    "    "
   ]
  },
  {
   "cell_type": "code",
   "execution_count": 41,
   "id": "5f12d796",
   "metadata": {},
   "outputs": [
    {
     "data": {
      "text/plain": [
       "'paul erdos and george polya are influential hungarian mathematicians who contributed a lot to the field erdoss name contains the hungarian letter o o with double acute accent but is often incorrectly written as erdos or erdos either by mistake or out of typographical necessity'"
      ]
     },
     "execution_count": 41,
     "metadata": {},
     "output_type": "execute_result"
    }
   ],
   "source": [
    "string = basic_clean(original)\n",
    "tokenize(string)"
   ]
  },
  {
   "cell_type": "markdown",
   "id": "5a6853bb",
   "metadata": {},
   "source": [
    "### 3. Define a function named stem. It should accept some text and return the text after applying stemming to all the words"
   ]
  },
  {
   "cell_type": "code",
   "execution_count": 42,
   "id": "6d03b9cc",
   "metadata": {},
   "outputs": [],
   "source": [
    "def stem(string):\n",
    "    #create porter stemmer\n",
    "    ps = nltk.porter.PorterStemmer()\n",
    "    #apply stemmer\n",
    "    #this is going to give out a list\n",
    "    stems = [ps.stem(word) for word in string.split()]\n",
    "    #join the list back together\n",
    "    string = \" \".join(stems)\n",
    "    \n",
    "    return string"
   ]
  },
  {
   "cell_type": "code",
   "execution_count": 43,
   "id": "e2cfa9b1",
   "metadata": {},
   "outputs": [
    {
     "data": {
      "text/plain": [
       "'paul erdo and georg polya are influenti hungarian mathematician who contribut a lot to the field erdoss name contain the hungarian letter o o with doubl acut accent but is often incorrectli written as erdo or erdo either by mistak or out of typograph necess'"
      ]
     },
     "execution_count": 43,
     "metadata": {},
     "output_type": "execute_result"
    }
   ],
   "source": [
    "string = basic_clean(original)\n",
    "string = tokenize(string)\n",
    "string = stem(string)\n",
    "string"
   ]
  },
  {
   "cell_type": "markdown",
   "id": "2a832a88",
   "metadata": {},
   "source": [
    "### 4.Define a function named lemmatize. It should accept some text and return the text after applying lemmatization to each word."
   ]
  },
  {
   "cell_type": "code",
   "execution_count": 44,
   "id": "41c4c39d",
   "metadata": {},
   "outputs": [],
   "source": [
    "def lemmatize(string):\n",
    "    #create lemmatizer\n",
    "    wnl = nltk.stem.WordNetLemmatizer()\n",
    "    #use lemmatizer\n",
    "    #splits back a list of words\n",
    "    lemmas = [wnl.lemmatize(word) for word in string.split()]\n",
    "    #join word back together\n",
    "    string = \" \".join(lemmas)\n",
    "    \n",
    "    return string\n",
    "    \n",
    "    "
   ]
  },
  {
   "cell_type": "code",
   "execution_count": 45,
   "id": "dc0736f9",
   "metadata": {},
   "outputs": [
    {
     "data": {
      "text/plain": [
       "'paul erdos and george polya are influential hungarian mathematician who contributed a lot to the field erdoss name contains the hungarian letter o o with double acute accent but is often incorrectly written a erdos or erdos either by mistake or out of typographical necessity'"
      ]
     },
     "execution_count": 45,
     "metadata": {},
     "output_type": "execute_result"
    }
   ],
   "source": [
    "string = basic_clean(original)\n",
    "string = tokenize(string)\n",
    "string= lemmatize(string)\n",
    "string"
   ]
  },
  {
   "cell_type": "markdown",
   "id": "ecc75702",
   "metadata": {},
   "source": [
    "### 5. Define a function named remove_stopwords. It should accept some text and return the text after removing all the stopwords."
   ]
  },
  {
   "cell_type": "code",
   "execution_count": 46,
   "id": "9c0724ee",
   "metadata": {},
   "outputs": [
    {
     "data": {
      "text/plain": [
       "['i',\n",
       " 'me',\n",
       " 'my',\n",
       " 'myself',\n",
       " 'we',\n",
       " 'our',\n",
       " 'ours',\n",
       " 'ourselves',\n",
       " 'you',\n",
       " \"you're\",\n",
       " \"you've\",\n",
       " \"you'll\",\n",
       " \"you'd\",\n",
       " 'your',\n",
       " 'yours',\n",
       " 'yourself',\n",
       " 'yourselves',\n",
       " 'he',\n",
       " 'him',\n",
       " 'his',\n",
       " 'himself',\n",
       " 'she',\n",
       " \"she's\",\n",
       " 'her',\n",
       " 'hers',\n",
       " 'herself',\n",
       " 'it',\n",
       " \"it's\",\n",
       " 'its',\n",
       " 'itself',\n",
       " 'they',\n",
       " 'them',\n",
       " 'their',\n",
       " 'theirs',\n",
       " 'themselves',\n",
       " 'what',\n",
       " 'which',\n",
       " 'who',\n",
       " 'whom',\n",
       " 'this',\n",
       " 'that',\n",
       " \"that'll\",\n",
       " 'these',\n",
       " 'those',\n",
       " 'am',\n",
       " 'is',\n",
       " 'are',\n",
       " 'was',\n",
       " 'were',\n",
       " 'be',\n",
       " 'been',\n",
       " 'being',\n",
       " 'have',\n",
       " 'has',\n",
       " 'had',\n",
       " 'having',\n",
       " 'do',\n",
       " 'does',\n",
       " 'did',\n",
       " 'doing',\n",
       " 'a',\n",
       " 'an',\n",
       " 'the',\n",
       " 'and',\n",
       " 'but',\n",
       " 'if',\n",
       " 'or',\n",
       " 'because',\n",
       " 'as',\n",
       " 'until',\n",
       " 'while',\n",
       " 'of',\n",
       " 'at',\n",
       " 'by',\n",
       " 'for',\n",
       " 'with',\n",
       " 'about',\n",
       " 'against',\n",
       " 'between',\n",
       " 'into',\n",
       " 'through',\n",
       " 'during',\n",
       " 'before',\n",
       " 'after',\n",
       " 'above',\n",
       " 'below',\n",
       " 'to',\n",
       " 'from',\n",
       " 'up',\n",
       " 'down',\n",
       " 'in',\n",
       " 'out',\n",
       " 'on',\n",
       " 'off',\n",
       " 'over',\n",
       " 'under',\n",
       " 'again',\n",
       " 'further',\n",
       " 'then',\n",
       " 'once',\n",
       " 'here',\n",
       " 'there',\n",
       " 'when',\n",
       " 'where',\n",
       " 'why',\n",
       " 'how',\n",
       " 'all',\n",
       " 'any',\n",
       " 'both',\n",
       " 'each',\n",
       " 'few',\n",
       " 'more',\n",
       " 'most',\n",
       " 'other',\n",
       " 'some',\n",
       " 'such',\n",
       " 'no',\n",
       " 'nor',\n",
       " 'not',\n",
       " 'only',\n",
       " 'own',\n",
       " 'same',\n",
       " 'so',\n",
       " 'than',\n",
       " 'too',\n",
       " 'very',\n",
       " 's',\n",
       " 't',\n",
       " 'can',\n",
       " 'will',\n",
       " 'just',\n",
       " 'don',\n",
       " \"don't\",\n",
       " 'should',\n",
       " \"should've\",\n",
       " 'now',\n",
       " 'd',\n",
       " 'll',\n",
       " 'm',\n",
       " 'o',\n",
       " 're',\n",
       " 've',\n",
       " 'y',\n",
       " 'ain',\n",
       " 'aren',\n",
       " \"aren't\",\n",
       " 'couldn',\n",
       " \"couldn't\",\n",
       " 'didn',\n",
       " \"didn't\",\n",
       " 'doesn',\n",
       " \"doesn't\",\n",
       " 'hadn',\n",
       " \"hadn't\",\n",
       " 'hasn',\n",
       " \"hasn't\",\n",
       " 'haven',\n",
       " \"haven't\",\n",
       " 'isn',\n",
       " \"isn't\",\n",
       " 'ma',\n",
       " 'mightn',\n",
       " \"mightn't\",\n",
       " 'mustn',\n",
       " \"mustn't\",\n",
       " 'needn',\n",
       " \"needn't\",\n",
       " 'shan',\n",
       " \"shan't\",\n",
       " 'shouldn',\n",
       " \"shouldn't\",\n",
       " 'wasn',\n",
       " \"wasn't\",\n",
       " 'weren',\n",
       " \"weren't\",\n",
       " 'won',\n",
       " \"won't\",\n",
       " 'wouldn',\n",
       " \"wouldn't\"]"
      ]
     },
     "execution_count": 46,
     "metadata": {},
     "output_type": "execute_result"
    }
   ],
   "source": [
    "#save stopwords\n",
    "stopwords_list = stopwords.words(\"english\")\n",
    "stopwords_list"
   ]
  },
  {
   "cell_type": "code",
   "execution_count": 47,
   "id": "ad34e3df",
   "metadata": {},
   "outputs": [
    {
     "data": {
      "text/plain": [
       "['paul',\n",
       " 'erdos',\n",
       " 'and',\n",
       " 'george',\n",
       " 'polya',\n",
       " 'are',\n",
       " 'influential',\n",
       " 'hungarian',\n",
       " 'mathematician']"
      ]
     },
     "execution_count": 47,
     "metadata": {},
     "output_type": "execute_result"
    }
   ],
   "source": [
    "#split the lemmatised version\n",
    "words = string.split()\n",
    "words[:9]"
   ]
  },
  {
   "cell_type": "code",
   "execution_count": 48,
   "id": "2b22a066",
   "metadata": {},
   "outputs": [
    {
     "data": {
      "text/plain": [
       "45"
      ]
     },
     "execution_count": 48,
     "metadata": {},
     "output_type": "execute_result"
    }
   ],
   "source": [
    "#word count\n",
    "len(words)"
   ]
  },
  {
   "cell_type": "code",
   "execution_count": 49,
   "id": "d88f09a3",
   "metadata": {},
   "outputs": [
    {
     "data": {
      "text/plain": [
       "['paul',\n",
       " 'erdos',\n",
       " 'george',\n",
       " 'polya',\n",
       " 'influential',\n",
       " 'hungarian',\n",
       " 'mathematician',\n",
       " 'contributed',\n",
       " 'lot']"
      ]
     },
     "execution_count": 49,
     "metadata": {},
     "output_type": "execute_result"
    }
   ],
   "source": [
    "#filtered words is words minus the stopwords\n",
    "filtered_words = [word for word in words if word not in stopwords_list]\n",
    "filtered_words[:9]"
   ]
  },
  {
   "cell_type": "code",
   "execution_count": 50,
   "id": "880b4063",
   "metadata": {},
   "outputs": [
    {
     "data": {
      "text/plain": [
       "27"
      ]
     },
     "execution_count": 50,
     "metadata": {},
     "output_type": "execute_result"
    }
   ],
   "source": [
    "len(filtered_words)"
   ]
  },
  {
   "cell_type": "code",
   "execution_count": 51,
   "id": "70790f3b",
   "metadata": {},
   "outputs": [],
   "source": [
    "def remove_stopwords(string, extra_words = [], exclude_words = []):\n",
    "    # define stopword\n",
    "    stopwords_list = stopwords.words(\"english\")\n",
    "    # exclude words you do not want to remove\n",
    "    stopwords_list = set(stopwords_list)-set(exclude_words)\n",
    "    # include extra words manauly in stop word list\n",
    "    stopwords_list = stopwords_list.union(set(extra_words))\n",
    "    #split lemmaztised paragraph \n",
    "    words = string.split() \n",
    "    #give me everything that is not stopword\n",
    "    filtered_words = [word for word in words if word not in stopwords_list]\n",
    "    #join filtered words\n",
    "    string = \" \".join(filtered_words)\n",
    "    \n",
    "    return string"
   ]
  },
  {
   "cell_type": "code",
   "execution_count": 52,
   "id": "d5bd164b",
   "metadata": {},
   "outputs": [
    {
     "data": {
      "text/plain": [
       "'paul erdos george polya influential hungarian mathematician contributed lot field erdoss name contains hungarian letter double acute accent often incorrectly written erdos erdos either mistake typographical necessity'"
      ]
     },
     "execution_count": 52,
     "metadata": {},
     "output_type": "execute_result"
    }
   ],
   "source": [
    "string = basic_clean(original)\n",
    "string = tokenize(string)\n",
    "string= lemmatize(string)\n",
    "string = remove_stopwords(string)\n",
    "string"
   ]
  },
  {
   "cell_type": "markdown",
   "id": "f9956bdc",
   "metadata": {},
   "source": [
    "### 6 Use your data from the acquire to produce a dataframe of the news articles. Name the dataframe news_df.\n",
    "\n"
   ]
  },
  {
   "cell_type": "code",
   "execution_count": 53,
   "id": "483691ce",
   "metadata": {},
   "outputs": [],
   "source": [
    "base_url = \"https://inshorts.com/en/read\""
   ]
  },
  {
   "cell_type": "code",
   "execution_count": 54,
   "id": "8fbdcad0",
   "metadata": {},
   "outputs": [
    {
     "data": {
      "text/html": [
       "<div>\n",
       "<style scoped>\n",
       "    .dataframe tbody tr th:only-of-type {\n",
       "        vertical-align: middle;\n",
       "    }\n",
       "\n",
       "    .dataframe tbody tr th {\n",
       "        vertical-align: top;\n",
       "    }\n",
       "\n",
       "    .dataframe thead th {\n",
       "        text-align: right;\n",
       "    }\n",
       "</style>\n",
       "<table border=\"1\" class=\"dataframe\">\n",
       "  <thead>\n",
       "    <tr style=\"text-align: right;\">\n",
       "      <th></th>\n",
       "      <th>title</th>\n",
       "      <th>category</th>\n",
       "      <th>body</th>\n",
       "    </tr>\n",
       "  </thead>\n",
       "  <tbody>\n",
       "    <tr>\n",
       "      <th>0</th>\n",
       "      <td>Bharti Airtel rakes in 61% profit</td>\n",
       "      <td>india</td>\n",
       "      <td>Bharti Airtel, India's top telecommunications ...</td>\n",
       "    </tr>\n",
       "    <tr>\n",
       "      <th>1</th>\n",
       "      <td>Infosys Gifts Sikka Shares Worth Rs 8.2cr</td>\n",
       "      <td>india</td>\n",
       "      <td>In a regulatory filing to the BSE on Friday, I...</td>\n",
       "    </tr>\n",
       "    <tr>\n",
       "      <th>2</th>\n",
       "      <td>Zimbabwe players ask India for cricketing tips</td>\n",
       "      <td>india</td>\n",
       "      <td>After getting thrashed by India by 5-0 in the ...</td>\n",
       "    </tr>\n",
       "    <tr>\n",
       "      <th>3</th>\n",
       "      <td>AAP drops Rajouri Garden candidate, a week bef...</td>\n",
       "      <td>india</td>\n",
       "      <td>Only a week before Delhi Assembly polls, Aam A...</td>\n",
       "    </tr>\n",
       "    <tr>\n",
       "      <th>4</th>\n",
       "      <td>Kashmir's famous Dal Lake freezes</td>\n",
       "      <td>india</td>\n",
       "      <td>After the recent snowfall in upper reaches of ...</td>\n",
       "    </tr>\n",
       "    <tr>\n",
       "      <th>...</th>\n",
       "      <td>...</td>\n",
       "      <td>...</td>\n",
       "      <td>...</td>\n",
       "    </tr>\n",
       "    <tr>\n",
       "      <th>280</th>\n",
       "      <td>Vintage cars on display to promote wildlife pr...</td>\n",
       "      <td>automobile</td>\n",
       "      <td>To create awareness about wildlife week, the K...</td>\n",
       "    </tr>\n",
       "    <tr>\n",
       "      <th>281</th>\n",
       "      <td>Tesla delivered record 83,135 China-made EVs i...</td>\n",
       "      <td>automobile</td>\n",
       "      <td>A report by China Passenger Car Association ha...</td>\n",
       "    </tr>\n",
       "    <tr>\n",
       "      <th>282</th>\n",
       "      <td>Porsche becomes Europe's most valuable automak...</td>\n",
       "      <td>automobile</td>\n",
       "      <td>Porsche overtook parent company Volkswagen to ...</td>\n",
       "    </tr>\n",
       "    <tr>\n",
       "      <th>283</th>\n",
       "      <td>Passenger vehicle wholesales rise by 92% in Se...</td>\n",
       "      <td>automobile</td>\n",
       "      <td>Passenger vehicle wholesales in India surged b...</td>\n",
       "    </tr>\n",
       "    <tr>\n",
       "      <th>284</th>\n",
       "      <td>Car rental startup Zoomcar may go public via S...</td>\n",
       "      <td>automobile</td>\n",
       "      <td>Bengaluru-based car rental startup Zoomcar has...</td>\n",
       "    </tr>\n",
       "  </tbody>\n",
       "</table>\n",
       "<p>285 rows × 3 columns</p>\n",
       "</div>"
      ],
      "text/plain": [
       "                                                 title    category  \\\n",
       "0                    Bharti Airtel rakes in 61% profit       india   \n",
       "1            Infosys Gifts Sikka Shares Worth Rs 8.2cr       india   \n",
       "2       Zimbabwe players ask India for cricketing tips       india   \n",
       "3    AAP drops Rajouri Garden candidate, a week bef...       india   \n",
       "4                    Kashmir's famous Dal Lake freezes       india   \n",
       "..                                                 ...         ...   \n",
       "280  Vintage cars on display to promote wildlife pr...  automobile   \n",
       "281  Tesla delivered record 83,135 China-made EVs i...  automobile   \n",
       "282  Porsche becomes Europe's most valuable automak...  automobile   \n",
       "283  Passenger vehicle wholesales rise by 92% in Se...  automobile   \n",
       "284  Car rental startup Zoomcar may go public via S...  automobile   \n",
       "\n",
       "                                                  body  \n",
       "0    Bharti Airtel, India's top telecommunications ...  \n",
       "1    In a regulatory filing to the BSE on Friday, I...  \n",
       "2    After getting thrashed by India by 5-0 in the ...  \n",
       "3    Only a week before Delhi Assembly polls, Aam A...  \n",
       "4    After the recent snowfall in upper reaches of ...  \n",
       "..                                                 ...  \n",
       "280  To create awareness about wildlife week, the K...  \n",
       "281  A report by China Passenger Car Association ha...  \n",
       "282  Porsche overtook parent company Volkswagen to ...  \n",
       "283  Passenger vehicle wholesales in India surged b...  \n",
       "284  Bengaluru-based car rental startup Zoomcar has...  \n",
       "\n",
       "[285 rows x 3 columns]"
      ]
     },
     "execution_count": 54,
     "metadata": {},
     "output_type": "execute_result"
    }
   ],
   "source": [
    "news_df = acquire.get_all_shorts(base_url)\n",
    "news_df"
   ]
  },
  {
   "cell_type": "markdown",
   "id": "93168673",
   "metadata": {},
   "source": [
    "### 7. Make another dataframe for the Codeup blog posts. Name the dataframe codeup_df."
   ]
  },
  {
   "cell_type": "code",
   "execution_count": 55,
   "id": "e4109f86",
   "metadata": {},
   "outputs": [],
   "source": [
    "base_url = 'https://codeup.com/blog/'"
   ]
  },
  {
   "cell_type": "code",
   "execution_count": 56,
   "id": "28b72c21",
   "metadata": {},
   "outputs": [
    {
     "data": {
      "text/html": [
       "<div>\n",
       "<style scoped>\n",
       "    .dataframe tbody tr th:only-of-type {\n",
       "        vertical-align: middle;\n",
       "    }\n",
       "\n",
       "    .dataframe tbody tr th {\n",
       "        vertical-align: top;\n",
       "    }\n",
       "\n",
       "    .dataframe thead th {\n",
       "        text-align: right;\n",
       "    }\n",
       "</style>\n",
       "<table border=\"1\" class=\"dataframe\">\n",
       "  <thead>\n",
       "    <tr style=\"text-align: right;\">\n",
       "      <th></th>\n",
       "      <th>title</th>\n",
       "      <th>content</th>\n",
       "    </tr>\n",
       "  </thead>\n",
       "  <tbody>\n",
       "    <tr>\n",
       "      <th>0</th>\n",
       "      <td>Coding Bootcamp or Computer Science Degree?</td>\n",
       "      <td>For many people, deciding between a coding boo...</td>\n",
       "    </tr>\n",
       "    <tr>\n",
       "      <th>1</th>\n",
       "      <td>Diversity Equity and Inclusion Report</td>\n",
       "      <td>Codeup is excited to launch our first Diversit...</td>\n",
       "    </tr>\n",
       "    <tr>\n",
       "      <th>2</th>\n",
       "      <td>Codeup Honored as SABJ Diversity and Inclusion...</td>\n",
       "      <td>Codeup has been named the 2022 Diversity and I...</td>\n",
       "    </tr>\n",
       "    <tr>\n",
       "      <th>3</th>\n",
       "      <td>How Can I Finance My Career Transition?</td>\n",
       "      <td>Deciding to transition into a tech career is a...</td>\n",
       "    </tr>\n",
       "    <tr>\n",
       "      <th>4</th>\n",
       "      <td>Tips for Women Beginning a Career in Tech</td>\n",
       "      <td>Codeup strongly values diversity, and inclusio...</td>\n",
       "    </tr>\n",
       "    <tr>\n",
       "      <th>5</th>\n",
       "      <td>What is Cloud Computing and AWS?</td>\n",
       "      <td>With many companies switching to cloud service...</td>\n",
       "    </tr>\n",
       "  </tbody>\n",
       "</table>\n",
       "</div>"
      ],
      "text/plain": [
       "                                               title  \\\n",
       "0        Coding Bootcamp or Computer Science Degree?   \n",
       "1              Diversity Equity and Inclusion Report   \n",
       "2  Codeup Honored as SABJ Diversity and Inclusion...   \n",
       "3            How Can I Finance My Career Transition?   \n",
       "4          Tips for Women Beginning a Career in Tech   \n",
       "5                   What is Cloud Computing and AWS?   \n",
       "\n",
       "                                             content  \n",
       "0  For many people, deciding between a coding boo...  \n",
       "1  Codeup is excited to launch our first Diversit...  \n",
       "2  Codeup has been named the 2022 Diversity and I...  \n",
       "3  Deciding to transition into a tech career is a...  \n",
       "4  Codeup strongly values diversity, and inclusio...  \n",
       "5  With many companies switching to cloud service...  "
      ]
     },
     "execution_count": 56,
     "metadata": {},
     "output_type": "execute_result"
    }
   ],
   "source": [
    "codeup_df = acquire.get_blog_content(base_url)\n",
    "codeup_df"
   ]
  },
  {
   "cell_type": "markdown",
   "id": "5a6bc044",
   "metadata": {},
   "source": [
    "### 8. For each dataframe, produce the following columns:\n",
    "- title to hold the title\n",
    "- original to hold the original article/post content\n",
    "- clean to hold the normalized and tokenized original with the stopwords removed.\n",
    "- stemmed to hold the stemmed version of the cleaned data.\n",
    "- lemmatized to hold the lemmatized version of the cleaned data.\n",
    "\n"
   ]
  },
  {
   "cell_type": "code",
   "execution_count": 57,
   "id": "df362077",
   "metadata": {},
   "outputs": [
    {
     "data": {
      "text/html": [
       "<div>\n",
       "<style scoped>\n",
       "    .dataframe tbody tr th:only-of-type {\n",
       "        vertical-align: middle;\n",
       "    }\n",
       "\n",
       "    .dataframe tbody tr th {\n",
       "        vertical-align: top;\n",
       "    }\n",
       "\n",
       "    .dataframe thead th {\n",
       "        text-align: right;\n",
       "    }\n",
       "</style>\n",
       "<table border=\"1\" class=\"dataframe\">\n",
       "  <thead>\n",
       "    <tr style=\"text-align: right;\">\n",
       "      <th></th>\n",
       "      <th>title</th>\n",
       "      <th>category</th>\n",
       "      <th>body</th>\n",
       "    </tr>\n",
       "  </thead>\n",
       "  <tbody>\n",
       "    <tr>\n",
       "      <th>0</th>\n",
       "      <td>Bharti Airtel rakes in 61% profit</td>\n",
       "      <td>india</td>\n",
       "      <td>Bharti Airtel, India's top telecommunications ...</td>\n",
       "    </tr>\n",
       "    <tr>\n",
       "      <th>1</th>\n",
       "      <td>Infosys Gifts Sikka Shares Worth Rs 8.2cr</td>\n",
       "      <td>india</td>\n",
       "      <td>In a regulatory filing to the BSE on Friday, I...</td>\n",
       "    </tr>\n",
       "    <tr>\n",
       "      <th>2</th>\n",
       "      <td>Zimbabwe players ask India for cricketing tips</td>\n",
       "      <td>india</td>\n",
       "      <td>After getting thrashed by India by 5-0 in the ...</td>\n",
       "    </tr>\n",
       "    <tr>\n",
       "      <th>3</th>\n",
       "      <td>AAP drops Rajouri Garden candidate, a week bef...</td>\n",
       "      <td>india</td>\n",
       "      <td>Only a week before Delhi Assembly polls, Aam A...</td>\n",
       "    </tr>\n",
       "    <tr>\n",
       "      <th>4</th>\n",
       "      <td>Kashmir's famous Dal Lake freezes</td>\n",
       "      <td>india</td>\n",
       "      <td>After the recent snowfall in upper reaches of ...</td>\n",
       "    </tr>\n",
       "  </tbody>\n",
       "</table>\n",
       "</div>"
      ],
      "text/plain": [
       "                                               title category  \\\n",
       "0                  Bharti Airtel rakes in 61% profit    india   \n",
       "1          Infosys Gifts Sikka Shares Worth Rs 8.2cr    india   \n",
       "2     Zimbabwe players ask India for cricketing tips    india   \n",
       "3  AAP drops Rajouri Garden candidate, a week bef...    india   \n",
       "4                  Kashmir's famous Dal Lake freezes    india   \n",
       "\n",
       "                                                body  \n",
       "0  Bharti Airtel, India's top telecommunications ...  \n",
       "1  In a regulatory filing to the BSE on Friday, I...  \n",
       "2  After getting thrashed by India by 5-0 in the ...  \n",
       "3  Only a week before Delhi Assembly polls, Aam A...  \n",
       "4  After the recent snowfall in upper reaches of ...  "
      ]
     },
     "execution_count": 57,
     "metadata": {},
     "output_type": "execute_result"
    }
   ],
   "source": [
    "news_df.head()"
   ]
  },
  {
   "cell_type": "code",
   "execution_count": 58,
   "id": "52dac188",
   "metadata": {},
   "outputs": [],
   "source": [
    "#change column names\n",
    "news_df.columns = [\"title\", \"category\", \"original\"]\n",
    "news_df = news_df[[\"title\",\"original\"]]"
   ]
  },
  {
   "cell_type": "code",
   "execution_count": 59,
   "id": "4d769fa1",
   "metadata": {},
   "outputs": [
    {
     "data": {
      "text/html": [
       "<div>\n",
       "<style scoped>\n",
       "    .dataframe tbody tr th:only-of-type {\n",
       "        vertical-align: middle;\n",
       "    }\n",
       "\n",
       "    .dataframe tbody tr th {\n",
       "        vertical-align: top;\n",
       "    }\n",
       "\n",
       "    .dataframe thead th {\n",
       "        text-align: right;\n",
       "    }\n",
       "</style>\n",
       "<table border=\"1\" class=\"dataframe\">\n",
       "  <thead>\n",
       "    <tr style=\"text-align: right;\">\n",
       "      <th></th>\n",
       "      <th>title</th>\n",
       "      <th>original</th>\n",
       "    </tr>\n",
       "  </thead>\n",
       "  <tbody>\n",
       "    <tr>\n",
       "      <th>0</th>\n",
       "      <td>Bharti Airtel rakes in 61% profit</td>\n",
       "      <td>Bharti Airtel, India's top telecommunications ...</td>\n",
       "    </tr>\n",
       "    <tr>\n",
       "      <th>1</th>\n",
       "      <td>Infosys Gifts Sikka Shares Worth Rs 8.2cr</td>\n",
       "      <td>In a regulatory filing to the BSE on Friday, I...</td>\n",
       "    </tr>\n",
       "    <tr>\n",
       "      <th>2</th>\n",
       "      <td>Zimbabwe players ask India for cricketing tips</td>\n",
       "      <td>After getting thrashed by India by 5-0 in the ...</td>\n",
       "    </tr>\n",
       "    <tr>\n",
       "      <th>3</th>\n",
       "      <td>AAP drops Rajouri Garden candidate, a week bef...</td>\n",
       "      <td>Only a week before Delhi Assembly polls, Aam A...</td>\n",
       "    </tr>\n",
       "    <tr>\n",
       "      <th>4</th>\n",
       "      <td>Kashmir's famous Dal Lake freezes</td>\n",
       "      <td>After the recent snowfall in upper reaches of ...</td>\n",
       "    </tr>\n",
       "  </tbody>\n",
       "</table>\n",
       "</div>"
      ],
      "text/plain": [
       "                                               title  \\\n",
       "0                  Bharti Airtel rakes in 61% profit   \n",
       "1          Infosys Gifts Sikka Shares Worth Rs 8.2cr   \n",
       "2     Zimbabwe players ask India for cricketing tips   \n",
       "3  AAP drops Rajouri Garden candidate, a week bef...   \n",
       "4                  Kashmir's famous Dal Lake freezes   \n",
       "\n",
       "                                            original  \n",
       "0  Bharti Airtel, India's top telecommunications ...  \n",
       "1  In a regulatory filing to the BSE on Friday, I...  \n",
       "2  After getting thrashed by India by 5-0 in the ...  \n",
       "3  Only a week before Delhi Assembly polls, Aam A...  \n",
       "4  After the recent snowfall in upper reaches of ...  "
      ]
     },
     "execution_count": 59,
     "metadata": {},
     "output_type": "execute_result"
    }
   ],
   "source": [
    "news_df.head()"
   ]
  },
  {
   "cell_type": "code",
   "execution_count": 60,
   "id": "fcd9ebba",
   "metadata": {},
   "outputs": [],
   "source": [
    "#create new column that uses basic clean and tokenoze function\n",
    "news_df[\"clean\"] = news_df.original.apply(basic_clean).apply(tokenize)"
   ]
  },
  {
   "cell_type": "code",
   "execution_count": 61,
   "id": "b0b4d431",
   "metadata": {},
   "outputs": [
    {
     "data": {
      "text/html": [
       "<div>\n",
       "<style scoped>\n",
       "    .dataframe tbody tr th:only-of-type {\n",
       "        vertical-align: middle;\n",
       "    }\n",
       "\n",
       "    .dataframe tbody tr th {\n",
       "        vertical-align: top;\n",
       "    }\n",
       "\n",
       "    .dataframe thead th {\n",
       "        text-align: right;\n",
       "    }\n",
       "</style>\n",
       "<table border=\"1\" class=\"dataframe\">\n",
       "  <thead>\n",
       "    <tr style=\"text-align: right;\">\n",
       "      <th></th>\n",
       "      <th>title</th>\n",
       "      <th>original</th>\n",
       "      <th>clean</th>\n",
       "    </tr>\n",
       "  </thead>\n",
       "  <tbody>\n",
       "    <tr>\n",
       "      <th>0</th>\n",
       "      <td>Bharti Airtel rakes in 61% profit</td>\n",
       "      <td>Bharti Airtel, India's top telecommunications ...</td>\n",
       "      <td>bharti airtel indias top telecommunications co...</td>\n",
       "    </tr>\n",
       "  </tbody>\n",
       "</table>\n",
       "</div>"
      ],
      "text/plain": [
       "                               title  \\\n",
       "0  Bharti Airtel rakes in 61% profit   \n",
       "\n",
       "                                            original  \\\n",
       "0  Bharti Airtel, India's top telecommunications ...   \n",
       "\n",
       "                                               clean  \n",
       "0  bharti airtel indias top telecommunications co...  "
      ]
     },
     "execution_count": 61,
     "metadata": {},
     "output_type": "execute_result"
    }
   ],
   "source": [
    "news_df.head(1)"
   ]
  },
  {
   "cell_type": "code",
   "execution_count": 62,
   "id": "f2c4a876",
   "metadata": {},
   "outputs": [],
   "source": [
    "#create new column that uses clean column and uses stem funtion \n",
    "news_df[\"stemmed\"] = news_df.clean.apply(stem)"
   ]
  },
  {
   "cell_type": "code",
   "execution_count": 63,
   "id": "b120135f",
   "metadata": {},
   "outputs": [
    {
     "data": {
      "text/html": [
       "<div>\n",
       "<style scoped>\n",
       "    .dataframe tbody tr th:only-of-type {\n",
       "        vertical-align: middle;\n",
       "    }\n",
       "\n",
       "    .dataframe tbody tr th {\n",
       "        vertical-align: top;\n",
       "    }\n",
       "\n",
       "    .dataframe thead th {\n",
       "        text-align: right;\n",
       "    }\n",
       "</style>\n",
       "<table border=\"1\" class=\"dataframe\">\n",
       "  <thead>\n",
       "    <tr style=\"text-align: right;\">\n",
       "      <th></th>\n",
       "      <th>title</th>\n",
       "      <th>original</th>\n",
       "      <th>clean</th>\n",
       "      <th>stemmed</th>\n",
       "    </tr>\n",
       "  </thead>\n",
       "  <tbody>\n",
       "    <tr>\n",
       "      <th>0</th>\n",
       "      <td>Bharti Airtel rakes in 61% profit</td>\n",
       "      <td>Bharti Airtel, India's top telecommunications ...</td>\n",
       "      <td>bharti airtel indias top telecommunications co...</td>\n",
       "      <td>bharti airtel india top telecommun compani ha ...</td>\n",
       "    </tr>\n",
       "  </tbody>\n",
       "</table>\n",
       "</div>"
      ],
      "text/plain": [
       "                               title  \\\n",
       "0  Bharti Airtel rakes in 61% profit   \n",
       "\n",
       "                                            original  \\\n",
       "0  Bharti Airtel, India's top telecommunications ...   \n",
       "\n",
       "                                               clean  \\\n",
       "0  bharti airtel indias top telecommunications co...   \n",
       "\n",
       "                                             stemmed  \n",
       "0  bharti airtel india top telecommun compani ha ...  "
      ]
     },
     "execution_count": 63,
     "metadata": {},
     "output_type": "execute_result"
    }
   ],
   "source": [
    "news_df.head(1)"
   ]
  },
  {
   "cell_type": "code",
   "execution_count": 64,
   "id": "f5e2548c",
   "metadata": {},
   "outputs": [],
   "source": [
    "#create new column that takes in clean and applies lemmatize function\n",
    "news_df[\"lemmatized\"] = news_df.clean.apply(lemmatize)"
   ]
  },
  {
   "cell_type": "code",
   "execution_count": 65,
   "id": "60c35264",
   "metadata": {},
   "outputs": [
    {
     "data": {
      "text/html": [
       "<div>\n",
       "<style scoped>\n",
       "    .dataframe tbody tr th:only-of-type {\n",
       "        vertical-align: middle;\n",
       "    }\n",
       "\n",
       "    .dataframe tbody tr th {\n",
       "        vertical-align: top;\n",
       "    }\n",
       "\n",
       "    .dataframe thead th {\n",
       "        text-align: right;\n",
       "    }\n",
       "</style>\n",
       "<table border=\"1\" class=\"dataframe\">\n",
       "  <thead>\n",
       "    <tr style=\"text-align: right;\">\n",
       "      <th></th>\n",
       "      <th>title</th>\n",
       "      <th>original</th>\n",
       "      <th>clean</th>\n",
       "      <th>stemmed</th>\n",
       "      <th>lemmatized</th>\n",
       "    </tr>\n",
       "  </thead>\n",
       "  <tbody>\n",
       "    <tr>\n",
       "      <th>0</th>\n",
       "      <td>Bharti Airtel rakes in 61% profit</td>\n",
       "      <td>Bharti Airtel, India's top telecommunications ...</td>\n",
       "      <td>bharti airtel indias top telecommunications co...</td>\n",
       "      <td>bharti airtel india top telecommun compani ha ...</td>\n",
       "      <td>bharti airtel india top telecommunication comp...</td>\n",
       "    </tr>\n",
       "    <tr>\n",
       "      <th>1</th>\n",
       "      <td>Infosys Gifts Sikka Shares Worth Rs 8.2cr</td>\n",
       "      <td>In a regulatory filing to the BSE on Friday, I...</td>\n",
       "      <td>in a regulatory filing to the bse on friday in...</td>\n",
       "      <td>in a regulatori file to the bse on friday info...</td>\n",
       "      <td>in a regulatory filing to the bse on friday in...</td>\n",
       "    </tr>\n",
       "  </tbody>\n",
       "</table>\n",
       "</div>"
      ],
      "text/plain": [
       "                                       title  \\\n",
       "0          Bharti Airtel rakes in 61% profit   \n",
       "1  Infosys Gifts Sikka Shares Worth Rs 8.2cr   \n",
       "\n",
       "                                            original  \\\n",
       "0  Bharti Airtel, India's top telecommunications ...   \n",
       "1  In a regulatory filing to the BSE on Friday, I...   \n",
       "\n",
       "                                               clean  \\\n",
       "0  bharti airtel indias top telecommunications co...   \n",
       "1  in a regulatory filing to the bse on friday in...   \n",
       "\n",
       "                                             stemmed  \\\n",
       "0  bharti airtel india top telecommun compani ha ...   \n",
       "1  in a regulatori file to the bse on friday info...   \n",
       "\n",
       "                                          lemmatized  \n",
       "0  bharti airtel india top telecommunication comp...  \n",
       "1  in a regulatory filing to the bse on friday in...  "
      ]
     },
     "execution_count": 65,
     "metadata": {},
     "output_type": "execute_result"
    }
   ],
   "source": [
    "\n",
    "news_df.head(2)"
   ]
  },
  {
   "cell_type": "markdown",
   "id": "06163cd2",
   "metadata": {},
   "source": [
    "#### now with code up data"
   ]
  },
  {
   "cell_type": "code",
   "execution_count": 66,
   "id": "c6c31a56",
   "metadata": {},
   "outputs": [
    {
     "data": {
      "text/html": [
       "<div>\n",
       "<style scoped>\n",
       "    .dataframe tbody tr th:only-of-type {\n",
       "        vertical-align: middle;\n",
       "    }\n",
       "\n",
       "    .dataframe tbody tr th {\n",
       "        vertical-align: top;\n",
       "    }\n",
       "\n",
       "    .dataframe thead th {\n",
       "        text-align: right;\n",
       "    }\n",
       "</style>\n",
       "<table border=\"1\" class=\"dataframe\">\n",
       "  <thead>\n",
       "    <tr style=\"text-align: right;\">\n",
       "      <th></th>\n",
       "      <th>title</th>\n",
       "      <th>content</th>\n",
       "    </tr>\n",
       "  </thead>\n",
       "  <tbody>\n",
       "    <tr>\n",
       "      <th>0</th>\n",
       "      <td>Coding Bootcamp or Computer Science Degree?</td>\n",
       "      <td>For many people, deciding between a coding boo...</td>\n",
       "    </tr>\n",
       "  </tbody>\n",
       "</table>\n",
       "</div>"
      ],
      "text/plain": [
       "                                         title  \\\n",
       "0  Coding Bootcamp or Computer Science Degree?   \n",
       "\n",
       "                                             content  \n",
       "0  For many people, deciding between a coding boo...  "
      ]
     },
     "execution_count": 66,
     "metadata": {},
     "output_type": "execute_result"
    }
   ],
   "source": [
    "codeup_df.head(1)"
   ]
  },
  {
   "cell_type": "code",
   "execution_count": 67,
   "id": "d03bd4ea",
   "metadata": {},
   "outputs": [],
   "source": [
    "#rename columns\n",
    "codeup_df.columns = [\"title\",\"original\"]\n",
    "#create column that uses basic clean and tokenize function\n",
    "codeup_df[\"clean\"] = codeup_df.original.apply(basic_clean).apply(tokenize)\n",
    "#create column that holds stemmed up column from clean column\n",
    "codeup_df[\"stemmed\"] = codeup_df.clean.apply(stem)\n",
    "#create column that holds lemmatize values\n",
    "codeup_df[\"lemmatized\"] = codeup_df.clean.apply(lemmatize)\n"
   ]
  },
  {
   "cell_type": "code",
   "execution_count": 68,
   "id": "7bebbac2",
   "metadata": {},
   "outputs": [
    {
     "data": {
      "text/html": [
       "<div>\n",
       "<style scoped>\n",
       "    .dataframe tbody tr th:only-of-type {\n",
       "        vertical-align: middle;\n",
       "    }\n",
       "\n",
       "    .dataframe tbody tr th {\n",
       "        vertical-align: top;\n",
       "    }\n",
       "\n",
       "    .dataframe thead th {\n",
       "        text-align: right;\n",
       "    }\n",
       "</style>\n",
       "<table border=\"1\" class=\"dataframe\">\n",
       "  <thead>\n",
       "    <tr style=\"text-align: right;\">\n",
       "      <th></th>\n",
       "      <th>title</th>\n",
       "      <th>original</th>\n",
       "      <th>clean</th>\n",
       "      <th>stemmed</th>\n",
       "      <th>lemmatized</th>\n",
       "    </tr>\n",
       "  </thead>\n",
       "  <tbody>\n",
       "    <tr>\n",
       "      <th>0</th>\n",
       "      <td>Coding Bootcamp or Computer Science Degree?</td>\n",
       "      <td>For many people, deciding between a coding boo...</td>\n",
       "      <td>for many people deciding between a coding boot...</td>\n",
       "      <td>for mani peopl decid between a code bootcamp a...</td>\n",
       "      <td>for many people deciding between a coding boot...</td>\n",
       "    </tr>\n",
       "    <tr>\n",
       "      <th>1</th>\n",
       "      <td>Diversity Equity and Inclusion Report</td>\n",
       "      <td>Codeup is excited to launch our first Diversit...</td>\n",
       "      <td>codeup is excited to launch our first diversit...</td>\n",
       "      <td>codeup is excit to launch our first divers equ...</td>\n",
       "      <td>codeup is excited to launch our first diversit...</td>\n",
       "    </tr>\n",
       "  </tbody>\n",
       "</table>\n",
       "</div>"
      ],
      "text/plain": [
       "                                         title  \\\n",
       "0  Coding Bootcamp or Computer Science Degree?   \n",
       "1        Diversity Equity and Inclusion Report   \n",
       "\n",
       "                                            original  \\\n",
       "0  For many people, deciding between a coding boo...   \n",
       "1  Codeup is excited to launch our first Diversit...   \n",
       "\n",
       "                                               clean  \\\n",
       "0  for many people deciding between a coding boot...   \n",
       "1  codeup is excited to launch our first diversit...   \n",
       "\n",
       "                                             stemmed  \\\n",
       "0  for mani peopl decid between a code bootcamp a...   \n",
       "1  codeup is excit to launch our first divers equ...   \n",
       "\n",
       "                                          lemmatized  \n",
       "0  for many people deciding between a coding boot...  \n",
       "1  codeup is excited to launch our first diversit...  "
      ]
     },
     "execution_count": 68,
     "metadata": {},
     "output_type": "execute_result"
    }
   ],
   "source": [
    "codeup_df.head(2)"
   ]
  },
  {
   "cell_type": "markdown",
   "id": "ff6cf80c",
   "metadata": {},
   "source": [
    "### 9 Ask yourself:\n",
    "\n",
    "- If your corpus is 493KB, would you prefer to use stemmed or lemmatized text?\n",
    "- If your corpus is 25MB, would you prefer to use stemmed or lemmatized text?\n",
    "- If your corpus is 200TB of text and you're charged by the megabyte for your hosted computational resources, would you prefer to use stemmed or lemmatized text?"
   ]
  },
  {
   "cell_type": "markdown",
   "id": "e187d90c",
   "metadata": {},
   "source": [
    "for files of 493kb and 25 mb, i would prefer lemmatize as it is quick on small files"
   ]
  },
  {
   "cell_type": "markdown",
   "id": "c581ba9a",
   "metadata": {},
   "source": [
    "for file of 200 TB, i would use stemmed"
   ]
  },
  {
   "cell_type": "code",
   "execution_count": null,
   "id": "0a6648a3",
   "metadata": {},
   "outputs": [],
   "source": []
  }
 ],
 "metadata": {
  "kernelspec": {
   "display_name": "Python 3 (ipykernel)",
   "language": "python",
   "name": "python3"
  },
  "language_info": {
   "codemirror_mode": {
    "name": "ipython",
    "version": 3
   },
   "file_extension": ".py",
   "mimetype": "text/x-python",
   "name": "python",
   "nbconvert_exporter": "python",
   "pygments_lexer": "ipython3",
   "version": "3.9.12"
  }
 },
 "nbformat": 4,
 "nbformat_minor": 5
}
